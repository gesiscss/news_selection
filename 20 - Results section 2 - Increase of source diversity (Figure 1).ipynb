{
 "cells": [
  {
   "cell_type": "markdown",
   "id": "ec413593",
   "metadata": {},
   "source": [
    "# Read data"
   ]
  },
  {
   "cell_type": "code",
   "execution_count": 1,
   "id": "0dcf52f7",
   "metadata": {
    "ExecuteTime": {
     "end_time": "2022-04-02T20:37:26.354697Z",
     "start_time": "2022-04-02T20:37:26.302572Z"
    }
   },
   "outputs": [],
   "source": [
    "import pandas as pd\n",
    "import numpy as np\n",
    "\n",
    "# read news results dataset\n",
    "dataset_A = pd.read_csv(f'data/dataset_A.csv')\n",
    "\n",
    "# read Google associated dataset\n",
    "dataset_C = pd.read_csv(f'data/dataset_C.csv')\n",
    "\n",
    "# read Google independent dataset\n",
    "dataset_D = pd.read_csv(f'data/dataset_D.csv')\n",
    "\n",
    "# include only the participants that were part of the statistical test\n",
    "set_participants = set(dataset_A[dataset_A['is_selected_result']]['participant'])\n"
   ]
  },
  {
   "cell_type": "markdown",
   "id": "b3c865ec",
   "metadata": {},
   "source": [
    "# Engagement and exposure in diffferent datasets"
   ]
  },
  {
   "cell_type": "markdown",
   "id": "ef6cd4c0",
   "metadata": {},
   "source": [
    "## Engagement on Dataset C (Google associated domain visits)"
   ]
  },
  {
   "cell_type": "code",
   "execution_count": 2,
   "id": "4579a756",
   "metadata": {
    "ExecuteTime": {
     "end_time": "2022-04-02T20:37:26.383874Z",
     "start_time": "2022-04-02T20:37:26.357798Z"
    }
   },
   "outputs": [],
   "source": [
    "\n",
    "# visits per participant per domain (in descend order to assign the rank appropiatedly)\n",
    "visits_C = dataset_C.groupby(\n",
    "    ['participant', 'coredomain']).size().rename(\n",
    "    'visits').reset_index().sort_values('visits', ascending=False)\n",
    "\n",
    "# assign the rank of the engagement, the more engagement to a domain the higher the rank \n",
    "# (note that the highest rank is 1, followed by 2). So, the highest rank has the lowest value\n",
    "visits_C['engagement_rank'] = visits_C.groupby('participant').cumcount() + 1\n",
    "\n",
    "# calculate the engagement (visits to domain divided by all visits)\n",
    "visits_C['total_visits'] = visits_C.groupby('participant')['visits'].transform('sum')\n",
    "visits_C['engagement'] = visits_C['visits'] / visits_C['total_visits']\n",
    "\n",
    "# calculate the number of unique domains per participant\n",
    "unique_domain_visits_C = pd.concat([\n",
    "    pd.Series(list(set_participants)).rename('participant').to_frame().set_index('participant'),\n",
    "    visits_C.groupby('participant')['coredomain'].nunique().rename('unique_domains')\n",
    "], axis=1)\n",
    "\n",
    "# if a participant did not visit any domain, then make sure it is a 0 and not a NaN\n",
    "unique_domain_visits_C['unique_domains'] = unique_domain_visits_C['unique_domains'].fillna(0)\n",
    "\n"
   ]
  },
  {
   "cell_type": "markdown",
   "id": "768c6467",
   "metadata": {},
   "source": [
    "## Engagement on Dataset D (Google independent domain visits)"
   ]
  },
  {
   "cell_type": "code",
   "execution_count": 3,
   "id": "8a8aa0e3",
   "metadata": {
    "ExecuteTime": {
     "end_time": "2022-04-02T20:37:26.383874Z",
     "start_time": "2022-04-02T20:37:26.357798Z"
    }
   },
   "outputs": [],
   "source": [
    "\n",
    "# visits per participant per domain (in descend order to assign the rank appropiatedly)\n",
    "visits_D = dataset_D.groupby(\n",
    "    ['participant', 'coredomain']).size().rename(\n",
    "    'visits').reset_index().sort_values('visits', ascending=False)\n",
    "\n",
    "# assign the rank of the engagement, the more engagement to a domain the higher the rank \n",
    "# (note that the highest rank is 1, followed by 2). So, the highest rank has the lowest value\n",
    "visits_D['engagement_rank'] = visits_D.groupby('participant').cumcount() + 1\n",
    "\n",
    "# calculate the engagement (visits to domain divided by all visits)\n",
    "visits_D['total_visits'] = visits_D.groupby('participant')['visits'].transform('sum')\n",
    "visits_D['engagement'] = visits_D['visits'] / visits_D['total_visits']\n",
    "\n",
    "# calculate the number of unique domains per participant\n",
    "unique_domain_visits_D = pd.concat([\n",
    "    pd.Series(list(set_participants)).rename('participant').to_frame().set_index('participant'),\n",
    "    visits_D.groupby('participant')['coredomain'].nunique().rename('unique_domains')\n",
    "], axis=1)\n",
    "\n",
    "# if a participant did not visit any domain, then make sure it is a 0 and not a NaN\n",
    "unique_domain_visits_D['unique_domains'] = unique_domain_visits_D['unique_domains'].fillna(0)\n",
    "\n"
   ]
  },
  {
   "cell_type": "markdown",
   "id": "8bc00669",
   "metadata": {},
   "source": [
    "## Engagement  based on only selected results in dataset A (Google Search results )"
   ]
  },
  {
   "cell_type": "code",
   "execution_count": 4,
   "id": "de0ec5a8",
   "metadata": {},
   "outputs": [],
   "source": [
    "# visits_A.groupby('participant')['coredomain'].nunique().rename('unique_domains')"
   ]
  },
  {
   "cell_type": "code",
   "execution_count": 5,
   "id": "3a4ba893",
   "metadata": {},
   "outputs": [],
   "source": [
    "# dataset_D['participant'].value_counts(dropna=False)"
   ]
  },
  {
   "cell_type": "code",
   "execution_count": 6,
   "id": "2a831260",
   "metadata": {
    "ExecuteTime": {
     "end_time": "2022-04-02T20:37:26.928979Z",
     "start_time": "2022-04-02T20:37:26.913515Z"
    }
   },
   "outputs": [],
   "source": [
    "clicks_dataset_A = dataset_A[dataset_A['is_selected_result']]\n",
    "\n",
    "# visits per participant per domain (in descend order to assign the rank appropiatedly)\n",
    "visits_A  = clicks_dataset_A.groupby([\n",
    "    'participant', 'coredomain']).size().rename(\n",
    "    'visits').reset_index().sort_values('visits', ascending=False)\n",
    "\n",
    "# assign the rank of the engagement related to Google Search, the more engagement to a domain the higher\n",
    "# the rank (not that the highest rank is 1, followed by 2). So, the highest rank has the lowest value\n",
    "visits_A['engagement_rank'] = visits_A.groupby('participant').cumcount() + 1\n",
    "\n",
    "# calculate the engagement (visits to domain divided by all visits)\n",
    "visits_A['total_visits'] = visits_A.groupby('participant')['visits'].transform('sum')\n",
    "visits_A['engagement'] = visits_A['visits'] / visits_A ['total_visits']\n",
    "\n",
    "# calculate the number of unique domains per participant\n",
    "unique_domain_visits_A = pd.concat([\n",
    "    pd.Series(list(set_participants)).rename('participant').to_frame().set_index('participant'),\n",
    "    visits_A.groupby('participant')['coredomain'].nunique().rename('unique_domains')\n",
    "], axis=1)\n",
    "\n",
    "\n",
    "# if a participanct did not go to any domain resulting from a Google search page, then something is wrong.\n",
    "# Only participants that performed searches and that selected at least one of the news articles in the results\n",
    "# were included in the analyses.\n",
    "if unique_domain_visits_A['unique_domains'].isnull().any():\n",
    "    raise Exception('Participants should have viisted to at least one domain. ',\n",
    "                    'Otherwise they were not part of the analysis.')"
   ]
  },
  {
   "cell_type": "code",
   "execution_count": 7,
   "id": "0468f8b5",
   "metadata": {},
   "outputs": [
    {
     "data": {
      "text/html": [
       "<div>\n",
       "<style scoped>\n",
       "    .dataframe tbody tr th:only-of-type {\n",
       "        vertical-align: middle;\n",
       "    }\n",
       "\n",
       "    .dataframe tbody tr th {\n",
       "        vertical-align: top;\n",
       "    }\n",
       "\n",
       "    .dataframe thead th {\n",
       "        text-align: right;\n",
       "    }\n",
       "</style>\n",
       "<table border=\"1\" class=\"dataframe\">\n",
       "  <thead>\n",
       "    <tr style=\"text-align: right;\">\n",
       "      <th></th>\n",
       "      <th>unique_domains</th>\n",
       "    </tr>\n",
       "    <tr>\n",
       "      <th>participant</th>\n",
       "      <th></th>\n",
       "    </tr>\n",
       "  </thead>\n",
       "  <tbody>\n",
       "  </tbody>\n",
       "</table>\n",
       "</div>"
      ],
      "text/plain": [
       "Empty DataFrame\n",
       "Columns: [unique_domains]\n",
       "Index: []"
      ]
     },
     "execution_count": 7,
     "metadata": {},
     "output_type": "execute_result"
    }
   ],
   "source": [
    "unique_domain_visits_A[unique_domain_visits_A['unique_domains'].isnull()]"
   ]
  },
  {
   "cell_type": "markdown",
   "id": "cf60098a",
   "metadata": {},
   "source": [
    "## Exposure in dataset A (Google results)"
   ]
  },
  {
   "cell_type": "code",
   "execution_count": 8,
   "id": "350fcbc8",
   "metadata": {
    "ExecuteTime": {
     "end_time": "2022-04-02T20:37:28.626541Z",
     "start_time": "2022-04-02T20:37:28.605865Z"
    }
   },
   "outputs": [],
   "source": [
    "\n",
    "# number of times a domain was exposed to a participant in Google results (dataset A)\n",
    "exhibits_dataset_A  = dataset_A.groupby(\n",
    "    ['participant', 'coredomain']).size().rename(\n",
    "    'exhibits').reset_index().sort_values('exhibits', ascending=False)\n",
    "\n",
    "# assign the rank of the exposure, the more exposure to a domain the higher the rank \n",
    "# (note that the highest rank is 1, followed by 2). So, the highest rank has the lowest value\n",
    "exhibits_dataset_A['exposure_rank'] = exhibits_dataset_A.groupby('participant').cumcount() + 1\n",
    "\n",
    "# calculate the exposure (exhibits of domain divided by all exhibits)\n",
    "exhibits_dataset_A['total_exhibits'] = exhibits_dataset_A.groupby('participant')['exhibits'].transform('sum')\n",
    "exhibits_dataset_A['exposure'] = exhibits_dataset_A['exhibits'] / exhibits_dataset_A ['total_exhibits']\n",
    "\n",
    "# calculate the number of unique domains shown to each participant\n",
    "unique_domain_exhibits_A = pd.concat([\n",
    "    pd.Series(list(set_participants)).rename('participant').to_frame().set_index('participant'),\n",
    "    exhibits_dataset_A.groupby('participant')['coredomain'].nunique().rename('unique_domains')\n",
    "], axis=1)\n",
    "\n",
    "# if a participant was not exposed to any domain then something is wrong. Only participants that \n",
    "# performed searches that resulted in pages with news articles were included. Thus, they were exposed\n",
    "# to news domains\n",
    "if unique_domain_exhibits_A['unique_domains'].isnull().any():\n",
    "    raise Exception('Participants should be exposed to at least one domain. ',\n",
    "                    'Otherwise they were not part of the analysis.')"
   ]
  },
  {
   "cell_type": "markdown",
   "id": "5c89cf12",
   "metadata": {},
   "source": [
    "## Engagement on Dataset D + selected results in dataset A"
   ]
  },
  {
   "cell_type": "code",
   "execution_count": 9,
   "id": "254bae2e",
   "metadata": {
    "ExecuteTime": {
     "end_time": "2022-04-02T20:37:30.448281Z",
     "start_time": "2022-04-02T20:37:30.438923Z"
    }
   },
   "outputs": [],
   "source": [
    "# distribution that includes both Google and not Google Search engagement\n",
    "visits_D_and_A = pd.concat([visits_D, visits_A])\n",
    "\n",
    "# calculate the number of unique domains per participant\n",
    "unique_domain_visits_D_and_A = pd.concat([\n",
    "    pd.Series(list(set_participants)).rename('participant').to_frame().set_index('participant'),\n",
    "    visits_D_and_A.groupby('participant')['coredomain'].nunique().rename('unique_domains')\n",
    "], axis=1)\n",
    "\n",
    "unique_domain_visits_D_and_A['unique_domains'] = unique_domain_visits_D_and_A['unique_domains'].fillna(0)"
   ]
  },
  {
   "cell_type": "code",
   "execution_count": 10,
   "id": "d4c78326",
   "metadata": {},
   "outputs": [
    {
     "data": {
      "text/plain": [
       "p61     42\n",
       "p49     28\n",
       "p18     24\n",
       "p40     24\n",
       "p16     18\n",
       "        ..\n",
       "p128     1\n",
       "p250     1\n",
       "p251     1\n",
       "p129     1\n",
       "p99      1\n",
       "Name: participant, Length: 280, dtype: int64"
      ]
     },
     "execution_count": 10,
     "metadata": {},
     "output_type": "execute_result"
    }
   ],
   "source": [
    "visits_A.participant.value_counts()"
   ]
  },
  {
   "cell_type": "markdown",
   "id": "c6a91145",
   "metadata": {},
   "source": [
    "# Plot engagements and exposures"
   ]
  },
  {
   "cell_type": "code",
   "execution_count": 11,
   "id": "c064c183",
   "metadata": {
    "ExecuteTime": {
     "end_time": "2022-04-01T18:04:19.589378Z",
     "start_time": "2022-04-01T18:04:18.652641Z"
    },
    "scrolled": false
   },
   "outputs": [
    {
     "name": "stdout",
     "output_type": "stream",
     "text": [
      "only 15 out of 57 displayed\n",
      "only 15 out of 63 displayed\n"
     ]
    },
    {
     "data": {
      "image/png": "[encoded data removed]",
      "text/plain": [
       "<Figure size 1008x504 with 3 Axes>"
      ]
     },
     "metadata": {},
     "output_type": "display_data"
    }
   ],
   "source": [
    "import numpy as np\n",
    "import seaborn as sns\n",
    "import matplotlib.pyplot as plt\n",
    "\n",
    "# seaborn plot style\n",
    "sns.set(style='whitegrid', font_scale=1.3)\n",
    "\n",
    "# define grid of plot, with width ration\n",
    "fig, ax = plt.subplots(2,2, figsize=(14,7), gridspec_kw={'width_ratios': [4, 5]})\n",
    "\n",
    "# spit the grid according to where the plots should appear\n",
    "\n",
    "ax1 = plt.subplot2grid((2, 2), (0, 0), colspan=1, fig=fig)\n",
    "ax2 = plt.subplot2grid((2, 2), (1, 0), colspan=1, fig=fig)\n",
    "ax3 = plt.subplot2grid((2, 2), (0, 1), rowspan=2, fig=fig)\n",
    "ax = [ax1, ax2, ax3]\n",
    "\n",
    "#####################################\n",
    "# Plot A: Engagement outside Google #\n",
    "#####################################\n",
    "\n",
    "# limit the plot the most visited domains (15 to not confuse with Google rank)\n",
    "print(f\"only 15 out of {visits_D['engagement_rank'].max()} displayed\")\n",
    "toplot = visits_D[visits_D['engagement_rank'] <= 15]\n",
    "\n",
    "# show each observation with a scatterplot\n",
    "sp = sns.stripplot(x='engagement_rank', \n",
    "                   y='engagement', \n",
    "                   data=toplot, \n",
    "                   color = sns.color_palette()[2],\n",
    "                   size=5, \n",
    "                   alpha=.05, \n",
    "                   ax=ax[0]\n",
    "                  )\n",
    "\n",
    "# display the full possible range of values\n",
    "sp.set(ylim=(0, 1))\n",
    "\n",
    "# show the median\n",
    "pp = sns.pointplot(x='engagement_rank', \n",
    "                   y='engagement', \n",
    "                   data=toplot,\n",
    "                   join=True, \n",
    "                   estimator=np.median,\n",
    "                   markers='d', \n",
    "                   scale=1, ci=95, \n",
    "                   color = sns.color_palette()[2],\n",
    "                   ax=ax[0]\n",
    "                  )\n",
    "\n",
    "# name of labels\n",
    "pp.set_ylabel('')\n",
    "pp.set_xlabel('x-th most visited domain\\n($\\it{engagement}$ based on Google independent visits)')\n",
    "pp.set_title('(A)')\n",
    "\n",
    "\n",
    "####################\n",
    "# Plot B: Exposure #\n",
    "####################\n",
    "\n",
    "# limit the plot the most visited domains (15 to not confuse with Google rank)\n",
    "print(f\"only 15 out of {exhibits_dataset_A['exposure_rank'].max()} displayed\")\n",
    "toplot = exhibits_dataset_A[exhibits_dataset_A['exposure_rank'] <= 15]\n",
    "\n",
    "# Show each observation with a scatterplot\n",
    "sp = sns.stripplot(x='exposure_rank', \n",
    "                   y='exposure', \n",
    "                   data=toplot, \n",
    "                   color= sns.color_palette()[1],\n",
    "                   size=5, \n",
    "                   alpha=.05, \n",
    "                   ax=ax[1]\n",
    "                  )\n",
    "\n",
    "# display the full possible range of values\n",
    "sp.set(ylim=(0, 1))\n",
    "\n",
    "\n",
    "# show the median\n",
    "pp = sns.pointplot(x='exposure_rank', \n",
    "                   y='exposure', \n",
    "                   data=toplot,\n",
    "                   join=True, \n",
    "                   estimator=np.median,\n",
    "                   markers='d', \n",
    "                   scale=1, \n",
    "                   ci=95,\n",
    "                   color = sns.color_palette()[1],\n",
    "                   ax=ax[1]\n",
    "                  )\n",
    "\n",
    "# name the labels\n",
    "pp.set_ylabel('')\n",
    "pp.set_xlabel('x-th most shown domain\\n($\\it{exposure}$ to news domains on Google Search pages)')\n",
    "pp.set_title('(B)')\n",
    "\n",
    "#####################################\n",
    "# Plot C: Cummulative distributions #\n",
    "#####################################\n",
    "\n",
    "# engagement in Google independent visits\n",
    "ep = sns.ecdfplot(data=unique_domain_visits_D,  \n",
    "                  x='unique_domains', \n",
    "                  stat='count', \n",
    "                  ax=ax[2],  \n",
    "                  color=sns.color_palette()[2], \n",
    "                  label = 'Engagement based on \\n$\\it{Google\\ independent}$ visits')\n",
    "\n",
    "\n",
    "# engagement in Google independent visits plus visits led by Google search results\n",
    "toplot_D_and_A = unique_domain_visits_D_and_A.copy()\n",
    "\n",
    "# Substract one domain to de-bias the sample. The criteria of selection of participants was based\n",
    "# on having one Google Search query, which means at least one Google Associated visit, therefore\n",
    "# to make sure that the effect is not due to the selection criteria, we remove one unique domain\n",
    "toplot_D_and_A['unique_domains'] = toplot_D_and_A['unique_domains'] - 1\n",
    "ep = sns.ecdfplot(data=toplot_D_and_A,  \n",
    "                  x='unique_domains', \n",
    "                  stat='count', \n",
    "                  ax=ax[2], \n",
    "                  color=sns.color_palette()[3], \n",
    "                  label = 'Engagement based on \\n$\\it{Google\\ independent}$ visits\\n$\\\\bf{plus}$ news visits driven by\\n$\\\\bf{Google\\ Search}$ ')\n",
    "\n",
    "\n",
    "\n",
    "# name of labels\n",
    "ep.set_ylabel('Participants (N)')\n",
    "ep.set_xlabel('Unique domains (N)')\n",
    "ep.set_title('(C)')\n",
    "ep.legend()\n",
    "# ep.xaxis.grid(False)\n",
    "\n",
    "\n",
    "plt.tight_layout()\n",
    "\n"
   ]
  },
  {
   "cell_type": "markdown",
   "id": "17d21d52",
   "metadata": {},
   "source": [
    "# Descriptives and post-hoc tests"
   ]
  },
  {
   "cell_type": "markdown",
   "id": "052223fd",
   "metadata": {},
   "source": [
    "## Increment of total visits via Google Search"
   ]
  },
  {
   "cell_type": "code",
   "execution_count": 12,
   "id": "012d31ab",
   "metadata": {},
   "outputs": [
    {
     "name": "stdout",
     "output_type": "stream",
     "text": [
      "Google independent visits: 62893\n",
      "News visits driven by Google Search: 1269, i.e., 1269 selected news articles (out of 5380) in 1221 search pages\n",
      "\n",
      "Increase in the sample of Google independent visits when the news visits driven by Google Search are added: 2.02 %\n"
     ]
    }
   ],
   "source": [
    "# consider only the ones that were match\n",
    "news_matches = dataset_A[dataset_A['is_selected_result']]\n",
    "\n",
    "print('Google independent visits:', len(dataset_D))\n",
    "print('News visits driven by Google Search:', f'{len(news_matches)},',\n",
    "      'i.e.,', len(news_matches), f'selected news articles (out of {len(dataset_A)}) in', \n",
    "      len(news_matches['search_page'].unique()), 'search pages')\n",
    "\n",
    "print('\\nIncrease in the sample of Google independent visits when', \n",
    "      'the news visits driven by Google Search are added:', round(100 * len(news_matches) / len(dataset_D),2), '%')"
   ]
  },
  {
   "cell_type": "markdown",
   "id": "225a9fbf",
   "metadata": {},
   "source": [
    "## News sources \"discovered\" by Google Search:\n",
    "**Google independent** vs **Google Search Driven w/o sources visited by Google independent visits**"
   ]
  },
  {
   "cell_type": "code",
   "execution_count": 13,
   "id": "52a9fcf4",
   "metadata": {},
   "outputs": [
    {
     "name": "stdout",
     "output_type": "stream",
     "text": [
      "Distribution of visits driven by Google Search to domains that were not visited independently of Google\n",
      "                                 counts          %\n",
      "Not visited outside Google          887  69.897557\n",
      "Visited independently of Google     382  30.102443\n",
      "\n",
      "New domains \"discovered\" by Google Search:\n",
      "count    280.000000\n",
      "mean       2.875000\n",
      "std        2.941865\n",
      "min        0.000000\n",
      "25%        1.000000\n",
      "50%        2.000000\n",
      "75%        4.000000\n",
      "max       24.000000\n",
      "Name: Not visited outside Google, dtype: float64\n",
      "\n",
      "News domains visited outside of Google\n",
      "count    257.000000\n",
      "mean       8.887160\n",
      "std        9.248676\n",
      "min        1.000000\n",
      "25%        3.000000\n",
      "50%        6.000000\n",
      "75%       11.000000\n",
      "max       57.000000\n",
      "dtype: float64\n",
      "\n",
      "Total increment: 32.350043782837126\n"
     ]
    }
   ],
   "source": [
    "# news articles that were driven by Google Search\n",
    "selected_results = dataset_A[dataset_A['is_selected_result']]\n",
    "\n",
    "# merge with with the combinations of participant and domain that were visited outside google\n",
    "selected_results = selected_results.merge(\n",
    "    dataset_D[['participant', 'coredomain']].drop_duplicates(),\n",
    "    how='left', on=['participant', 'coredomain'], indicator=True)\n",
    "\n",
    "# the indicator of the merge will indicate if the user visited the domain outside of google\n",
    "selected_results['annotation'] = selected_results['_merge'].map(\n",
    "    {'left_only': 'Not visited outside Google',\n",
    "     'both': 'Visited independently of Google'})\n",
    "\n",
    "print('Distribution of visits driven by Google Search to domains that were not visited independently of Google')\n",
    "a = selected_results.annotation.value_counts(dropna=False)\n",
    "b = selected_results.annotation.value_counts(dropna=False, normalize=True) * 100\n",
    "print(pd.concat([a,b], axis=1, keys=['counts', '%']))\n",
    "\n",
    "# newly discovered domains per participant\n",
    "print('\\nNew domains \"discovered\" by Google Search:')\n",
    "print(statsA_no_D := selected_results.drop_duplicates(['participant', 'coredomain', 'annotation']).groupby([\n",
    "    'participant', 'annotation']).size().unstack()['Not visited outside Google'].fillna(0).describe())\n",
    "\n",
    "# Diversity of google independent visits\n",
    "print('\\nNews domains visited outside of Google')\n",
    "print(statsD := dataset_D.drop_duplicates(['participant', 'coredomain',]).groupby([\n",
    "    'participant']).size().describe())\n",
    "\n",
    "print('\\nTotal increment:', 100* statsA_no_D['mean'] / statsD['mean'])"
   ]
  },
  {
   "cell_type": "markdown",
   "id": "54f5319c",
   "metadata": {
    "ExecuteTime": {
     "end_time": "2022-04-02T20:07:29.564730Z",
     "start_time": "2022-04-02T20:07:29.546396Z"
    }
   },
   "source": [
    "## Concentration of visits and exhibits"
   ]
  },
  {
   "cell_type": "code",
   "execution_count": 14,
   "id": "eecb820b",
   "metadata": {
    "ExecuteTime": {
     "end_time": "2022-03-31T16:08:34.801257Z",
     "start_time": "2022-03-31T16:08:34.789389Z"
    }
   },
   "outputs": [
    {
     "name": "stdout",
     "output_type": "stream",
     "text": [
      "Within participant\n",
      "top-3 domains concentrates 87.89310258837497 % of the visits\n",
      "top-3 domains concentrates 56.09366721299769 % of the exhibits\n",
      "\n",
      "Overall:\n",
      "top-3 domains concentrates 51.19647655541952 % of the visits\n",
      "top-3 domains concentrates 13.468703427719822 % of the exhibits\n"
     ]
    }
   ],
   "source": [
    "print('Within participant')\n",
    "print('top-3 domains concentrates', \n",
    "      100*visits_D[visits_D['engagement_rank'] <= 3].groupby('participant')['engagement'].sum().mean(), \n",
    "      '% of the visits')\n",
    "\n",
    "print('top-3 domains concentrates', \n",
    "      100*exhibits_dataset_A[exhibits_dataset_A['exposure_rank'] <= 3].groupby('participant')['exposure'].sum().mean(), \n",
    "      '% of the exhibits')\n",
    "\n",
    "\n",
    "print('\\nOverall:')\n",
    "visits_per_domain = visits_D.groupby('coredomain')['visits'].sum().sort_values(ascending=False)\n",
    "print('top-3 domains concentrates', \n",
    "      100*visits_per_domain[:3].sum() / visits_per_domain.sum(), \n",
    "      '% of the visits')\n",
    "exhibits_per_domain = exhibits_dataset_A.groupby('coredomain')['exhibits'].sum().sort_values(ascending=False)\n",
    "print('top-3 domains concentrates', \n",
    "      100*exhibits_per_domain[:3].sum() / exhibits_per_domain.sum(), \n",
    "      '% of the exhibits')"
   ]
  },
  {
   "cell_type": "markdown",
   "id": "edf66ada",
   "metadata": {},
   "source": [
    "## Compare the distributions of unique domains"
   ]
  },
  {
   "cell_type": "code",
   "execution_count": 15,
   "id": "776c36c9",
   "metadata": {},
   "outputs": [
    {
     "name": "stdout",
     "output_type": "stream",
     "text": [
      "Kolmogorov-Smirnov test to compare the distributions:\n",
      "\n",
      "Degrees of Freedom:  278\n",
      "\n",
      "Google independent vs Google independent + Google Search driven visits\n",
      "KstestResult(statistic=0.125, pvalue=0.02508576205059103)\n",
      "\n",
      "Google independent vs Google associated\n",
      "KstestResult(statistic=0.14642857142857144, pvalue=0.004886689156803134)\n",
      "\n",
      "Google associated vs Google independent + Google Search driven visits\n",
      "KstestResult(statistic=0.0, pvalue=1.0)\n"
     ]
    }
   ],
   "source": [
    "from scipy.stats import kstest\n",
    "\n",
    "# Note that we substract 1 domain to de-bias the sample. The criteria of selection of participants \n",
    "# was based on having one Google Search query, which means at least one Google Associated visit, \n",
    "# therefore to make sure that the effect is not due to the selection criteria, we remove 1 unique domain.\n",
    "\n",
    "print('Kolmogorov-Smirnov test to compare the distributions:\\n')\n",
    "print('Degrees of Freedom: ', len(unique_domain_visits_D) - 2 )\n",
    "print('\\nGoogle independent vs Google independent + Google Search driven visits')\n",
    "print(kstest(unique_domain_visits_D['unique_domains'], unique_domain_visits_D_and_A['unique_domains'] - 1))\n",
    "print('\\nGoogle independent vs Google associated')\n",
    "print(kstest(unique_domain_visits_D['unique_domains'], unique_domain_visits_C['unique_domains'] - 1))\n",
    "print('\\nGoogle associated vs Google independent + Google Search driven visits')\n",
    "print(kstest( unique_domain_visits_C['unique_domains'] - 1, unique_domain_visits_C['unique_domains'] - 1))"
   ]
  },
  {
   "cell_type": "code",
   "execution_count": null,
   "id": "3e2125f8",
   "metadata": {},
   "outputs": [],
   "source": []
  }
 ],
 "metadata": {
  "hide_input": false,
  "kernelspec": {
   "display_name": "Python 3 (ipykernel)",
   "language": "python",
   "name": "python3"
  },
  "language_info": {
   "codemirror_mode": {
    "name": "ipython",
    "version": 3
   },
   "file_extension": ".py",
   "mimetype": "text/x-python",
   "name": "python",
   "nbconvert_exporter": "python",
   "pygments_lexer": "ipython3",
   "version": "3.9.2"
  },
  "toc": {
   "base_numbering": 1,
   "nav_menu": {},
   "number_sections": true,
   "sideBar": true,
   "skip_h1_title": false,
   "title_cell": "Table of Contents",
   "title_sidebar": "Contents",
   "toc_cell": false,
   "toc_position": {
    "height": "738px",
    "left": "62px",
    "top": "180px",
    "width": "374px"
   },
   "toc_section_display": true,
   "toc_window_display": true
  }
 },
 "nbformat": 4,
 "nbformat_minor": 5
}
