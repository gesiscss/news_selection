{
 "cells": [
  {
   "cell_type": "markdown",
   "id": "ec413593",
   "metadata": {},
   "source": [
    "# Read data\n"
   ]
  },
  {
   "cell_type": "code",
   "execution_count": 1,
   "id": "a85bc57e",
   "metadata": {
    "ExecuteTime": {
     "end_time": "2022-04-02T16:34:59.506437Z",
     "start_time": "2022-04-02T16:34:58.520821Z"
    }
   },
   "outputs": [],
   "source": [
    "import pandas as pd\n",
    "import numpy as np\n",
    "import itertools\n",
    "\n",
    "# read news results dataset\n",
    "dataset_A = pd.read_csv(f'data/dataset_A.csv')\n",
    "\n",
    "# read the all news domain visists dataset\n",
    "dataset_B = pd.read_csv(f'data/dataset_B.csv')\n",
    "\n",
    "# read the Google associated news visits dataset\n",
    "dataset_C = pd.read_csv(f'data/dataset_C.csv')\n",
    "\n",
    "# read the Google independent news visits dataset\n",
    "dataset_D = pd.read_csv(f'data/dataset_D.csv')\n",
    "\n",
    "# include only the participants that were part of the statistical test\n",
    "set_participants = set(dataset_A[dataset_A['is_selected_result']]['participant'])\n",
    "\n",
    "# include only the participants that were part of the statistical test\n",
    "set_coredomains = set(dataset_B['coredomain'].tolist())\n",
    "\n",
    "# create permutations of participants and coredomains to include all zeros\n",
    "participants_coredomains = pd.DataFrame([(p,c) for p in set_participants for c in set_coredomains],\n",
    "                                       columns=['participant', 'coredomain'])\n",
    "\n",
    "# make sure that all coredomains apppear\n",
    "dataset_B['coredomain'] = dataset_B['coredomain'].astype('category')\n",
    "dataset_C['coredomain'] = dataset_C['coredomain'].astype('category')\n",
    "dataset_D['coredomain'] = dataset_D['coredomain'].astype('category')"
   ]
  },
  {
   "cell_type": "markdown",
   "id": "d6e9f42e",
   "metadata": {},
   "source": [
    "# Dataset B (Google associated) \n"
   ]
  },
  {
   "cell_type": "markdown",
   "id": "ed74711a",
   "metadata": {
    "ExecuteTime": {
     "end_time": "2022-03-10T15:48:30.192080Z",
     "start_time": "2022-03-10T15:48:30.183793Z"
    }
   },
   "source": [
    "## Visits per participant per domain"
   ]
  },
  {
   "cell_type": "code",
   "execution_count": 2,
   "id": "d3270c71",
   "metadata": {},
   "outputs": [
    {
     "data": {
      "text/plain": [
       "(62440, 4)"
      ]
     },
     "execution_count": 2,
     "metadata": {},
     "output_type": "execute_result"
    }
   ],
   "source": [
    "# read the all news domain visists dataset\n",
    "dataset_B = pd.read_csv(f'data/dataset_B.csv')\n",
    "\n",
    "dataset_B['coredomain'] = dataset_B['coredomain'].astype('category')\n",
    "\n",
    "# calculate the number of Google driven visits before and after \n",
    "news_visits_per_participant_per_domain_B_bf_aft_wide = dataset_B.groupby(\n",
    "    ['participant', 'coredomain', 'is_analysis_period']).size().unstack().rename(\n",
    "    columns={False: 'before', True: 'after'}).reset_index()\n",
    "\n",
    "# make sure that all participants and coredomains are included (groupby discards pairs w/o instances)\n",
    "news_visits_per_participant_per_domain_B_bf_aft_wide = news_visits_per_participant_per_domain_B_bf_aft_wide.merge(\n",
    "    participants_coredomains, how='right', on=['participant', 'coredomain'])\n",
    "\n",
    "# add 0s to not found combinations\n",
    "news_visits_per_participant_per_domain_B_bf_aft_wide['after'] = news_visits_per_participant_per_domain_B_bf_aft_wide['after'].fillna(0)\n",
    "news_visits_per_participant_per_domain_B_bf_aft_wide['before'] = news_visits_per_participant_per_domain_B_bf_aft_wide['before'].fillna(0)\n",
    "\n",
    "news_visits_per_participant_per_domain_B_bf_aft_wide.shape\n"
   ]
  },
  {
   "cell_type": "markdown",
   "id": "2133789a",
   "metadata": {},
   "source": [
    "# Dataset C (Google associated) \n"
   ]
  },
  {
   "cell_type": "markdown",
   "id": "8f658e1f",
   "metadata": {
    "ExecuteTime": {
     "end_time": "2022-03-10T15:48:30.192080Z",
     "start_time": "2022-03-10T15:48:30.183793Z"
    }
   },
   "source": [
    "## Visits per participant per domain"
   ]
  },
  {
   "cell_type": "code",
   "execution_count": 3,
   "id": "472f1dd1",
   "metadata": {},
   "outputs": [
    {
     "data": {
      "text/plain": [
       "(62440, 4)"
      ]
     },
     "execution_count": 3,
     "metadata": {},
     "output_type": "execute_result"
    }
   ],
   "source": [
    "# calculate the number of Google driven visits before and after \n",
    "news_visits_per_participant_per_domain_C_bf_aft_wide = dataset_C.groupby(\n",
    "    ['participant', 'coredomain', 'is_analysis_period']).size().unstack().rename(\n",
    "    columns={False: 'before', True: 'after'}).reset_index()\n",
    "\n",
    "# make sure that all participants and coredomains are included (groupby discards pairs w/o instances)\n",
    "news_visits_per_participant_per_domain_C_bf_aft_wide = news_visits_per_participant_per_domain_C_bf_aft_wide.merge(\n",
    "    participants_coredomains, how='right', on=['participant', 'coredomain'])\n",
    "\n",
    "\n",
    "# add 0s to not found combinations\n",
    "news_visits_per_participant_per_domain_C_bf_aft_wide['after'] = news_visits_per_participant_per_domain_C_bf_aft_wide['after'].fillna(0)\n",
    "news_visits_per_participant_per_domain_C_bf_aft_wide['before'] = news_visits_per_participant_per_domain_C_bf_aft_wide['before'].fillna(0)\n",
    "\n",
    "news_visits_per_participant_per_domain_C_bf_aft_wide.shape"
   ]
  },
  {
   "cell_type": "code",
   "execution_count": 4,
   "id": "7d8a362b",
   "metadata": {},
   "outputs": [
    {
     "data": {
      "text/plain": [
       "[]"
      ]
     },
     "execution_count": 4,
     "metadata": {},
     "output_type": "execute_result"
    }
   ],
   "source": [
    "[x for x in news_visits_per_participant_per_domain_C_bf_aft_wide['participant'].unique() if x not in set_participants ]"
   ]
  },
  {
   "cell_type": "markdown",
   "id": "6d6c8322",
   "metadata": {
    "ExecuteTime": {
     "end_time": "2022-03-10T15:48:30.192080Z",
     "start_time": "2022-03-10T15:48:30.183793Z"
    }
   },
   "source": [
    "## Visits per participant"
   ]
  },
  {
   "cell_type": "code",
   "execution_count": 5,
   "id": "7d182f5f",
   "metadata": {
    "ExecuteTime": {
     "end_time": "2022-04-02T16:34:59.569114Z",
     "start_time": "2022-04-02T16:34:59.557671Z"
    }
   },
   "outputs": [],
   "source": [
    "# calculate the number of Google driven visits before and after \n",
    "news_visits_per_participant_C_bf_aft_wide = dataset_C.groupby(['participant', 'is_analysis_period']).size().unstack().rename(\n",
    "    columns={False: 'before', True: 'after'})\n",
    "\n",
    "# make sure that all participants are included (groupby discards participants w/o instances)\n",
    "news_visits_per_participant_C_bf_aft_wide = news_visits_per_participant_C_bf_aft_wide.merge(\n",
    "    pd.Series(list(set_participants), name='participant'), how='right', on='participant').fillna(0)\n",
    "\n",
    "# transform to long format\n",
    "news_visits_per_participant_C_bf_aft = news_visits_per_participant_C_bf_aft_wide.set_index(\n",
    "    'participant').unstack().reset_index().rename(columns ={'level_0': 'when', 0: 'Freq'})\n",
    "\n"
   ]
  },
  {
   "cell_type": "markdown",
   "id": "f04b9c63",
   "metadata": {},
   "source": [
    "# Dataset D (Google independent)"
   ]
  },
  {
   "cell_type": "markdown",
   "id": "54f908ed",
   "metadata": {
    "ExecuteTime": {
     "end_time": "2022-03-10T15:48:30.192080Z",
     "start_time": "2022-03-10T15:48:30.183793Z"
    }
   },
   "source": [
    "## Visits per participant per domain"
   ]
  },
  {
   "cell_type": "code",
   "execution_count": 6,
   "id": "6dbd0d10",
   "metadata": {},
   "outputs": [
    {
     "data": {
      "text/plain": [
       "(62440, 4)"
      ]
     },
     "execution_count": 6,
     "metadata": {},
     "output_type": "execute_result"
    }
   ],
   "source": [
    "# calculate the number of Google driven visits before and after \n",
    "news_visits_per_participant_per_domain_D_bf_aft_wide = dataset_D.groupby(\n",
    "    ['participant', 'coredomain', 'is_analysis_period']).size().unstack().rename(\n",
    "    columns={False: 'before', True: 'after'}).reset_index()\n",
    "\n",
    "# make sure that all participants and coredomains are included (groupby discards pairs w/o instances)\n",
    "news_visits_per_participant_per_domain_D_bf_aft_wide = news_visits_per_participant_per_domain_D_bf_aft_wide.merge(\n",
    "    participants_coredomains, how='right', on=['participant', 'coredomain'])\n",
    "\n",
    "\n",
    "# add 0s to not found combinations\n",
    "news_visits_per_participant_per_domain_D_bf_aft_wide['after'] = news_visits_per_participant_per_domain_D_bf_aft_wide['after'].fillna(0)\n",
    "news_visits_per_participant_per_domain_D_bf_aft_wide['before'] = news_visits_per_participant_per_domain_D_bf_aft_wide['before'].fillna(0)\n",
    "\n",
    "news_visits_per_participant_per_domain_D_bf_aft_wide.shape\n"
   ]
  },
  {
   "cell_type": "markdown",
   "id": "1e713cb8",
   "metadata": {
    "ExecuteTime": {
     "end_time": "2022-03-10T15:48:30.192080Z",
     "start_time": "2022-03-10T15:48:30.183793Z"
    }
   },
   "source": [
    "## Visits per participant"
   ]
  },
  {
   "cell_type": "code",
   "execution_count": 7,
   "id": "20c76e98",
   "metadata": {
    "ExecuteTime": {
     "end_time": "2022-04-02T16:34:59.532365Z",
     "start_time": "2022-04-02T16:34:59.516082Z"
    }
   },
   "outputs": [],
   "source": [
    "# calculate the number of Google independent visits before and after \n",
    "news_visits_per_participant_D_bf_aft_wide = dataset_D.groupby(\n",
    "    ['participant', 'is_analysis_period']).size().unstack().rename(\n",
    "    columns={False: 'before', True: 'after'})\n",
    "\n",
    "# make sure that all participants are included (groupby discards participants w/o instances)\n",
    "news_visits_per_participant_D_bf_aft_wide = news_visits_per_participant_D_bf_aft_wide.merge(\n",
    "    pd.Series(list(set_participants), name='participant'), how='right', on='participant').fillna(0)\n",
    "\n",
    "# transform to long format\n",
    "news_visits_per_participant_D_bf_aft = news_visits_per_participant_D_bf_aft_wide.set_index(\n",
    "    'participant').unstack().reset_index().rename(columns ={'level_0': 'when', 0: 'Freq'})\n"
   ]
  },
  {
   "cell_type": "markdown",
   "id": "f2f8b537",
   "metadata": {},
   "source": [
    "# Integrated plot"
   ]
  },
  {
   "cell_type": "code",
   "execution_count": 8,
   "id": "0a24f59b",
   "metadata": {
    "ExecuteTime": {
     "end_time": "2022-04-02T16:35:04.951326Z",
     "start_time": "2022-04-02T16:35:03.263321Z"
    }
   },
   "outputs": [
    {
     "data": {
      "image/png": "[encoded data removed]",
      "text/plain": [
       "<Figure size 756x648 with 4 Axes>"
      ]
     },
     "metadata": {},
     "output_type": "display_data"
    }
   ],
   "source": [
    "import seaborn as sns\n",
    "import matplotlib.pyplot as plt\n",
    "from scipy.stats import pearsonr, spearmanr, kendalltau\n",
    "\n",
    "sns.set(style=\"whitegrid\", font_scale=1.5)\n",
    "fig, ax = plt.subplots(2,2, figsize=(10.5,9))\n",
    "\n",
    "\n",
    "##########################################################\n",
    "# Plot A: Distribution of Google independent news visits #\n",
    "#########################################################\n",
    "\n",
    "# add 1 to avoid indefinitions due to the log scale\n",
    "toplot = news_visits_per_participant_D_bf_aft.copy()\n",
    "toplot['Freq'] = toplot['Freq'] + 1\n",
    "\n",
    "# display the histogram with a logarithmic scale\n",
    "hp = sns.histplot(\n",
    "    data=toplot,\n",
    "    x=\"Freq\", \n",
    "    hue='when', \n",
    "    bins = 20,  \n",
    "    multiple=\"stack\", \n",
    "    log_scale=True,               \n",
    "    palette=[sns.color_palette()[2], sns.color_palette('pastel')[2]], \n",
    "    hue_order=['before', 'after'], \n",
    "    ax=ax[0][0]\n",
    ")\n",
    "\n",
    "# add labels and titles\n",
    "hp.get_legend().set_title('')\n",
    "hp.set_xlabel('Google independent news visits')\n",
    "hp.set_ylabel('Participants (N)')\n",
    "hp.set_title('(A)')\n",
    "\n",
    "#####################################################\n",
    "# Plot B: Distribution of Google driven news visits #\n",
    "#########################################################\n",
    "\n",
    "# add 1 to avoid indefinitions due to the log scale\n",
    "toplot = news_visits_per_participant_C_bf_aft.copy()\n",
    "toplot['Freq'] = toplot['Freq'] + 1\n",
    "\n",
    "# display the histogram with a logarithmic scale\n",
    "hp = sns.histplot(\n",
    "    data=toplot,\n",
    "    x=\"Freq\",\n",
    "    hue='when',\n",
    "    bins = 20,\n",
    "    multiple=\"stack\",\n",
    "    log_scale=True,\n",
    "    hue_order=['before', 'after'],\n",
    "    palette=[sns.color_palette()[4], sns.color_palette('pastel')[4]], \n",
    "    ax=ax[0][1]\n",
    ")\n",
    "\n",
    "# add labels and titles\n",
    "hp.get_legend().set_title('')\n",
    "hp.set_xlabel('Google associated news visits')\n",
    "hp.set_ylabel('')\n",
    "hp.set_title('(B)')\n",
    "\n",
    "\n",
    "################################################################################\n",
    "# Plot C:  Scatterplot between google independent news visits before and after #\n",
    "################################################################################\n",
    "\n",
    "\n",
    "# scatterplot with linear regression\n",
    "rp = sns.regplot(x=np.log10(news_visits_per_participant_D_bf_aft_wide['before']+1), \n",
    "                 y=np.log10(news_visits_per_participant_D_bf_aft_wide['after']+1),  \n",
    "                 color=sns.color_palette('pastel')[2],  \n",
    "                 line_kws={'color': sns.color_palette()[2]},\n",
    "                 ci=95, \n",
    "                 ax=ax[1][0]\n",
    "                )\n",
    "# set logarithmic axis so they match the x and y transformation\n",
    "rp.set_xticks(np.log10(np.array([1, 10, 100, 1000, 10000])))\n",
    "rp.get_xaxis().set_major_formatter(lambda x, pos: f'{10 ** x:g}')\n",
    "rp.set_xlim(np.log10(np.array([.75, max(news_visits_per_participant_D_bf_aft_wide['before'])])))\n",
    "rp.set_yticks(np.log10(np.array([1, 10, 100, 1000])))\n",
    "rp.get_yaxis().set_major_formatter(lambda x, pos: f'{10 ** x:g}')\n",
    "rp.set_ylim(np.log10(np.array([.75, 1000 + 100])))\n",
    "\n",
    "# add labels and titles\n",
    "rp.set_xlabel('Google independent\\nNews visits $\\\\bf{Before}$')\n",
    "rp.set_ylabel('Google independent\\nNews visits $\\\\bf{After}$')\n",
    "rp.set_title('(C)')\n",
    "\n",
    "\n",
    "###############################################################################\n",
    "# Plot D:  Scatterplot between google associated news visits before and after #\n",
    "###############################################################################\n",
    "# scatterplot with linear regression\n",
    "rp = sns.regplot(x=np.log10(news_visits_per_participant_C_bf_aft_wide['before']+1), \n",
    "                 y=np.log10(news_visits_per_participant_C_bf_aft_wide['after']+1),  \n",
    "                 color=sns.color_palette('pastel')[4],  \n",
    "                 line_kws={'color': sns.color_palette()[4]},\n",
    "                 ci=95, \n",
    "                 ax=ax[1][1]\n",
    "                )\n",
    "# set logarithmic axis so they match the x and y transformation\n",
    "rp.set_xticks(np.log10(np.array([1, 10, 100, 1000, 10000])))\n",
    "rp.get_xaxis().set_major_formatter(lambda x, pos: f'{10 ** x:g}')\n",
    "rp.set_xlim(np.log10(np.array([.75, max(news_visits_per_participant_C_bf_aft_wide['before'])])))\n",
    "rp.set_yticks(np.log10(np.array([1, 10, 100, 1000])))\n",
    "rp.get_yaxis().set_major_formatter(lambda x, pos: f'{10 ** x:g}')\n",
    "rp.set_ylim(np.log10(np.array([.75, 1000 + 100])))\n",
    "\n",
    "\n",
    "# add labels and titles\n",
    "rp.set_xlabel('Google associated\\nNews visits $\\\\bf{Before}$')\n",
    "rp.set_ylabel('Google associated\\nNews visits $\\\\bf{After}$')\n",
    "rp.set_title('(D)')\n",
    "\n",
    "\n",
    "plt.tight_layout()\n"
   ]
  },
  {
   "cell_type": "markdown",
   "id": "477d5863",
   "metadata": {},
   "source": [
    "# Correlations of visits per participants per domain\n",
    "before and after for Google associated and independent visits (Plots C and D)"
   ]
  },
  {
   "cell_type": "code",
   "execution_count": 9,
   "id": "9027aae3",
   "metadata": {
    "scrolled": false
   },
   "outputs": [
    {
     "name": "stdout",
     "output_type": "stream",
     "text": [
      "All news:\n",
      "\n",
      "Comparison of distributions (Kolmogorov–Smirnov):\n",
      "KstestResult(statistic=0.0022421524663677195, pvalue=0.9974733628678101)\n",
      "\n",
      "Correlation in the number of visits per participants before and after in the Google independent visits:\n",
      "Degrees of Freedom: 62438\n",
      "Spearman correlation of Google independent news visits before and after\n",
      "SpearmanrResult(correlation=0.4383855722589858, pvalue=0.0)\n",
      "Kendall tau correlation of Google independent news visits before and after\n",
      "KendalltauResult(correlation=0.43328750631079954, pvalue=0.0)\n",
      "Pearson-r correlation of Google independent news visits before and after\n",
      "(0.7886694475731951, 0.0)\n",
      "--------------------------------------------------------------------------------\n",
      "Google Independent:\n",
      "\n",
      "Comparison of distributions (Kolmogorov–Smirnov):\n",
      "KstestResult(statistic=0.0021941063420883866, pvalue=0.9981724814989338)\n",
      "\n",
      "Correlation in the number of visits per participants before and after in the Google independent visits:\n",
      "Degrees of Freedom: 62438\n",
      "Spearman correlation of Google independent news visits before and after\n",
      "SpearmanrResult(correlation=0.5197542329708932, pvalue=0.0)\n",
      "Kendall tau correlation of Google independent news visits before and after\n",
      "KendalltauResult(correlation=0.5163849819765244, pvalue=0.0)\n",
      "Pearson-r correlation of Google independent news visits before and after\n",
      "(0.787134611178417, 0.0)\n",
      "--------------------------------------------------------------------------------\n",
      "\n",
      "Google Associated:\n",
      "\n",
      "Comparison of distributions (Kolmogorov–Smirnov):\n",
      "KstestResult(statistic=0.00041639974375395905, pvalue=1.0)\n",
      "\n",
      "Correlation in the number of visits per participants before and after in the Google associated visits:\n",
      "Degrees of Freedom: 62438\n",
      "Spearman correlation of Google associated news visits before and after\n",
      "SpearmanrResult(correlation=0.2871756574300954, pvalue=0.0)\n",
      "Kendall tau correlation of Google associated news visits before and after\n",
      "KendalltauResult(correlation=0.28508701369637346, pvalue=0.0)\n",
      "Pearson-r correlation of Google associated news visits before and after\n",
      "(0.7730504273628641, 0.0)\n",
      "--------------------------------------------------------------------------------\n"
     ]
    }
   ],
   "source": [
    "from scipy.stats import kstest, pearsonr, spearmanr, kendalltau\n",
    "\n",
    "\n",
    "\n",
    "print('All news:')\n",
    "# Correlations for All News visits\n",
    "before = news_visits_per_participant_per_domain_B_bf_aft_wide['before']\n",
    "after = news_visits_per_participant_per_domain_B_bf_aft_wide['after']\n",
    "print('\\nComparison of distributions (Kolmogorov–Smirnov):')\n",
    "print(kstest(before, after))\n",
    "print('\\nCorrelation in the number of visits per participants before and after in the Google independent visits:')\n",
    "print('Degrees of Freedom:', len(news_visits_per_participant_per_domain_B_bf_aft_wide) - 2)\n",
    "print('Spearman correlation of Google independent news visits before and after')\n",
    "print(spearmanr(before, after))\n",
    "print('Kendall tau correlation of Google independent news visits before and after')\n",
    "print(kendalltau(before, after))\n",
    "print('Pearson-r correlation of Google independent news visits before and after')\n",
    "print(pearsonr(before, after))\n",
    "print('-'*80)\n",
    "\n",
    "print('Google Independent:')\n",
    "# Correlations for Google Independent visits\n",
    "before = news_visits_per_participant_per_domain_D_bf_aft_wide['before']\n",
    "after = news_visits_per_participant_per_domain_D_bf_aft_wide['after']\n",
    "print('\\nComparison of distributions (Kolmogorov–Smirnov):')\n",
    "print(kstest(before, after))\n",
    "print('\\nCorrelation in the number of visits per participants before and after in the Google independent visits:')\n",
    "print('Degrees of Freedom:', len(news_visits_per_participant_per_domain_D_bf_aft_wide) - 2)\n",
    "print('Spearman correlation of Google independent news visits before and after')\n",
    "print(spearmanr(before, after))\n",
    "print('Kendall tau correlation of Google independent news visits before and after')\n",
    "print(kendalltau(before, after))\n",
    "print('Pearson-r correlation of Google independent news visits before and after')\n",
    "print(pearsonr(before, after))\n",
    "print('-'*80)\n",
    "\n",
    "\n",
    "print('\\nGoogle Associated:')\n",
    "# Correlations for Google associated visits\n",
    "before = news_visits_per_participant_per_domain_C_bf_aft_wide['before']\n",
    "after = news_visits_per_participant_per_domain_C_bf_aft_wide['after']\n",
    "print('\\nComparison of distributions (Kolmogorov–Smirnov):')\n",
    "print(kstest(before, after))\n",
    "print('\\nCorrelation in the number of visits per participants before and after in the Google associated visits:')\n",
    "print('Degrees of Freedom:', len(news_visits_per_participant_per_domain_C_bf_aft_wide) - 2)\n",
    "print('Spearman correlation of Google associated news visits before and after')\n",
    "print(spearmanr(before, after))\n",
    "print('Kendall tau correlation of Google associated news visits before and after')\n",
    "print(kendalltau(before, after))\n",
    "print('Pearson-r correlation of Google associated news visits before and after')\n",
    "print(pearsonr(before, after))\n",
    "print('-'*80)"
   ]
  },
  {
   "cell_type": "markdown",
   "id": "8f268471",
   "metadata": {},
   "source": [
    "# Correlations of visits per participants \n",
    "before and after for Google associated and independent visits (Plots C and D)"
   ]
  },
  {
   "cell_type": "code",
   "execution_count": 10,
   "id": "00b614a3",
   "metadata": {},
   "outputs": [
    {
     "name": "stdout",
     "output_type": "stream",
     "text": [
      "Google Independent:\n",
      "\n",
      "Comparison of distributions (Kolmogorov–Smirnov):\n",
      "KstestResult(statistic=0.04285714285714286, pvalue=0.9597659599959413)\n",
      "\n",
      "Correlation in the number of visits per participants before and after in the Google independent visits:\n",
      "Degrees of Freedom: 278\n",
      "Spearman correlation of Google independent news visits before and after\n",
      "SpearmanrResult(correlation=0.8556786133029087, pvalue=1.6424844176190452e-81)\n",
      "Kendall tau correlation of Google independent news visits before and after\n",
      "KendalltauResult(correlation=0.699970084758678, pvalue=2.911316534729197e-65)\n",
      "Pearson-r correlation of Google independent news visits before and after\n",
      "(0.7290396378645513, 1.1071550778295367e-47)\n",
      "\n",
      "Google Associated:\n",
      "\n",
      "Comparison of distributions (Kolmogorov–Smirnov):\n",
      "KstestResult(statistic=0.04285714285714286, pvalue=0.9597659599959413)\n",
      "\n",
      "Correlation in the number of visits per participants before and after in the Google associated visits:\n",
      "Degrees of Freedom: 278\n",
      "Spearman correlation of Google associated news visits before and after\n",
      "SpearmanrResult(correlation=0.5616243902758301, pvalue=1.123490765133198e-24)\n",
      "Kendall tau correlation of Google associated news visits before and after\n",
      "KendalltauResult(correlation=0.41295019903424907, pvalue=2.452737800599325e-23)\n",
      "Pearson-r correlation of Google associated news visits before and after\n",
      "(0.8245636031647763, 9.915529703358318e-71)\n"
     ]
    }
   ],
   "source": [
    "from scipy.stats import kstest, pearsonr, spearmanr, kendalltau\n",
    "\n",
    "# Correlations for Google Independent visits\n",
    "before = news_visits_per_participant_D_bf_aft_wide['before']\n",
    "after = news_visits_per_participant_D_bf_aft_wide['after']\n",
    "\n",
    "print('Google Independent:')\n",
    "print('\\nComparison of distributions (Kolmogorov–Smirnov):')\n",
    "print(kstest(before, after))\n",
    "print('\\nCorrelation in the number of visits per participants before and after in the Google independent visits:')\n",
    "print('Degrees of Freedom:', len(news_visits_per_participant_D_bf_aft_wide) - 2)\n",
    "print('Spearman correlation of Google independent news visits before and after')\n",
    "print(spearmanr(before, after))\n",
    "print('Kendall tau correlation of Google independent news visits before and after')\n",
    "print(kendalltau(before, after))\n",
    "print('Pearson-r correlation of Google independent news visits before and after')\n",
    "print(pearsonr(before, after))\n",
    "\n",
    "\n",
    "print('\\nGoogle Associated:')\n",
    "# Correlations for Google associated visits\n",
    "before = news_visits_per_participant_C_bf_aft_wide['before']\n",
    "after = news_visits_per_participant_C_bf_aft_wide['after']\n",
    "print('\\nComparison of distributions (Kolmogorov–Smirnov):')\n",
    "print(kstest(before, after))\n",
    "print('\\nCorrelation in the number of visits per participants before and after in the Google associated visits:')\n",
    "print('Degrees of Freedom:', len(news_visits_per_participant_C_bf_aft_wide) - 2)\n",
    "print('Spearman correlation of Google associated news visits before and after')\n",
    "print(spearmanr(before, after))\n",
    "print('Kendall tau correlation of Google associated news visits before and after')\n",
    "print(kendalltau(before, after))\n",
    "print('Pearson-r correlation of Google associated news visits before and after')\n",
    "print(pearsonr(before, after))\n"
   ]
  }
 ],
 "metadata": {
  "hide_input": false,
  "kernelspec": {
   "display_name": "Python 3 (ipykernel)",
   "language": "python",
   "name": "python3"
  },
  "language_info": {
   "codemirror_mode": {
    "name": "ipython",
    "version": 3
   },
   "file_extension": ".py",
   "mimetype": "text/x-python",
   "name": "python",
   "nbconvert_exporter": "python",
   "pygments_lexer": "ipython3",
   "version": "3.9.2"
  },
  "toc": {
   "base_numbering": 1,
   "nav_menu": {},
   "number_sections": true,
   "sideBar": true,
   "skip_h1_title": false,
   "title_cell": "Table of Contents",
   "title_sidebar": "Contents",
   "toc_cell": false,
   "toc_position": {
    "height": "738px",
    "left": "62px",
    "top": "180px",
    "width": "374px"
   },
   "toc_section_display": true,
   "toc_window_display": true
  }
 },
 "nbformat": 4,
 "nbformat_minor": 5
}
