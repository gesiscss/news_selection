{
 "cells": [
  {
   "cell_type": "code",
   "execution_count": 1,
   "id": "765574ab",
   "metadata": {},
   "outputs": [
    {
     "name": "stderr",
     "output_type": "stream",
     "text": [
      "Loading required package: Matrix\n",
      "\n",
      "#refugeeswelcome\n",
      "\n",
      "Loading required package: lattice\n",
      "\n",
      "Loading required package: survival\n",
      "\n",
      "Loading required package: Formula\n",
      "\n",
      "Loading required package: ggplot2\n",
      "\n",
      "\n",
      "Attaching package: ‘Hmisc’\n",
      "\n",
      "\n",
      "The following objects are masked from ‘package:base’:\n",
      "\n",
      "    format.pval, units\n",
      "\n",
      "\n"
     ]
    }
   ],
   "source": [
    "library(lme4)\n",
    "library(sjPlot)\n",
    "library(Hmisc)\n",
    "\n",
    "library(gridExtra)\n",
    "library(ggplot2)\n",
    "\n",
    "# custom style for tab models\n",
    "css = list(\n",
    "    css.thead = 'border-top: double; text-align:center; font-style:normal; font-weight:bold; padding:0.1cm;',\n",
    "    css.tdata = 'padding:0.05cm; padding-left:0.2cm; padding-right:0.2cm; text-align:left; vertical-align:top;',\n",
    "    css.depvarhead = 'text-align:center; border-bottom:1px solid; font-style:italic; font-weight:bold',\n",
    "    css.summary = 'padding-top:0.05cm; padding-bottom:0.05cm;'\n",
    "  )"
   ]
  },
  {
   "cell_type": "markdown",
   "id": "9d263dd5",
   "metadata": {},
   "source": [
    "# Read Data"
   ]
  },
  {
   "cell_type": "code",
   "execution_count": 2,
   "id": "7828fccd",
   "metadata": {},
   "outputs": [],
   "source": [
    "wtdata <- read.csv(\"data/dataset_A_linked.csv\")\n",
    "\n",
    "# filter the relevant analysis period\n",
    "wtdata = wtdata[wtdata$is_analysis_period,]"
   ]
  },
  {
   "cell_type": "markdown",
   "id": "706d5060",
   "metadata": {},
   "source": [
    "# Demographics and statistics"
   ]
  },
  {
   "cell_type": "code",
   "execution_count": 3,
   "id": "ae372c13",
   "metadata": {},
   "outputs": [
    {
     "name": "stdout",
     "output_type": "stream",
     "text": [
      "Number of results: 2754 \n",
      "Number of search pages: 611 \n",
      "Number of results: 194 \n"
     ]
    }
   ],
   "source": [
    "# number of results\n",
    "cat(paste('Number of results:', nrow(wtdata), '\\n'))\n",
    "\n",
    "# number of search pages\n",
    "cat(paste('Number of search pages:', nrow(wtdata[!duplicated(wtdata['search_page']),]), '\\n'))\n",
    "\n",
    "# remove the duplicates (as one participant can be measured multiple times)\n",
    "wtparticipants = wtdata[!duplicated(wtdata['participant']), \n",
    "                        c('participant', 'age_val', 'education_val', 'political_alignment_val', \n",
    "                          'is_west_germany_val', 'is_female_val', 'is_diverse_val')]\n",
    "\n",
    "# number of participants\n",
    "cat(paste('Number of results:', nrow(wtparticipants), '\\n'))\n"
   ]
  },
  {
   "cell_type": "code",
   "execution_count": 4,
   "id": "f93284b8",
   "metadata": {},
   "outputs": [
    {
     "name": "stdout",
     "output_type": "stream",
     "text": [
      "\n",
      "\n",
      "####### is_female_val ######\n",
      "wtparticipants[[col]] \n",
      "       n  missing distinct \n",
      "     193        1        2 \n",
      "                      \n",
      "Value      FALSE  TRUE\n",
      "Frequency    103    90\n",
      "Proportion 0.534 0.466\n",
      "#######is_female_val ######\n",
      "\n",
      "\n",
      "####### is_diverse_val ######\n",
      "wtparticipants[[col]] \n",
      "       n  missing distinct \n",
      "     193        1        2 \n",
      "                      \n",
      "Value      FALSE  TRUE\n",
      "Frequency    192     1\n",
      "Proportion 0.995 0.005\n",
      "#######is_diverse_val ######\n",
      "\n",
      "\n",
      "####### is_west_germany_val ######\n",
      "wtparticipants[[col]] \n",
      "       n  missing distinct     Info     Mean      Gmd \n",
      "     193        1        2    0.502    1.788   0.3364 \n",
      "                      \n",
      "Value          1     2\n",
      "Frequency     41   152\n",
      "Proportion 0.212 0.788\n",
      "#######is_west_germany_val ######\n",
      "\n",
      "\n",
      "####### education_val ######\n",
      "wtparticipants[[col]] \n",
      "       n  missing distinct     Info     Mean      Gmd \n",
      "     193        1        3    0.799    2.425   0.7097 \n",
      "                            \n",
      "Value          1     2     3\n",
      "Frequency     23    65   105\n",
      "Proportion 0.119 0.337 0.544\n",
      "#######education_val ######\n",
      "\n",
      "\n",
      "####### age_val ######\n",
      "wtparticipants[[col]] \n",
      "       n  missing distinct     Info     Mean      Gmd      .05      .10 \n",
      "     193        1       54    0.999    46.26    16.03     24.6     28.0 \n",
      "     .25      .50      .75      .90      .95 \n",
      "    34.0     47.0     57.0     65.0     69.0 \n",
      "\n",
      "lowest : 18 20 21 22 24, highest: 69 70 71 72 73\n",
      "#######age_val ######\n",
      "\n",
      "\n",
      "####### political_alignment_val ######\n",
      "wtparticipants[[col]] \n",
      "       n  missing distinct     Info     Mean      Gmd      .05      .10 \n",
      "     192        2       10    0.969    5.344    2.158     2.55     3.00 \n",
      "     .25      .50      .75      .90      .95 \n",
      "    4.00     6.00     6.00     8.00     9.00 \n",
      "\n",
      "lowest :  1  2  3  4  5, highest:  6  7  8  9 10\n",
      "                                                                      \n",
      "Value          1     2     3     4     5     6     7     8     9    10\n",
      "Frequency      3     7    29    26    30    52    21    12     7     5\n",
      "Proportion 0.016 0.036 0.151 0.135 0.156 0.271 0.109 0.062 0.036 0.026\n",
      "#######political_alignment_val ######\n"
     ]
    }
   ],
   "source": [
    "# generate the descriptive statistics for each variable\n",
    "for (col in c('is_female_val',\n",
    "              'is_diverse_val',\n",
    "              'is_west_germany_val', \n",
    "              'education_val',\n",
    "              'age_val',   \n",
    "              'political_alignment_val'\n",
    "              )){\n",
    "    cat(paste0('\\n\\n####### ',col,' ######\\n'))\n",
    "    print(describe(wtparticipants[[col]]))\n",
    "    cat(paste0('#######',col,' ######\\n'))\n",
    "}"
   ]
  },
  {
   "cell_type": "code",
   "execution_count": 5,
   "id": "53ec0fa3",
   "metadata": {},
   "outputs": [
    {
     "name": "stderr",
     "output_type": "stream",
     "text": [
      "Warning message:\n",
      "“Removed 1 rows containing non-finite values (stat_bin).”\n",
      "Warning message:\n",
      "“Removed 2 rows containing non-finite values (stat_bin).”\n"
     ]
    },
    {
     "data": {
      "image/png": "[encoded data removed]",
      "text/plain": [
       "plot without title"
      ]
     },
     "metadata": {
      "image/png": {
       "height": 300,
       "width": 840
      }
     },
     "output_type": "display_data"
    }
   ],
   "source": [
    "# Distribution of age\n",
    "age_plot = ggplot(wtparticipants, aes(x=age_val)) + \n",
    "  geom_histogram(binwidth=5, colour=\"black\", fill=\"white\") +\n",
    "   theme_linedraw()  + theme(text = element_text(size = 20))  +\n",
    "   xlab(\"Age\") + ylab(\"Participants (N)\") +\n",
    "   theme(plot.margin = unit(c(0,0.5,0,0), \"cm\"))\n",
    "\n",
    "# Distribution of the political alignment\n",
    "pol_align_plot = ggplot(wtparticipants, aes(x=political_alignment_val)) + \n",
    "  geom_histogram(binwidth=1, colour=\"black\", fill=\"white\") +\n",
    "   theme_linedraw()  + theme(text = element_text(size = 20)) +\n",
    "  xlab(\"Political Alignment\") + ylab(\"Participants (N)\") + \n",
    "   theme(plot.margin = unit(c(0,0,0,0.5), \"cm\"))\n",
    "\n",
    "# display plost side to side\n",
    "options(repr.plot.width=14, repr.plot.height=5)\n",
    "grid.arrange(age_plot, pol_align_plot, ncol = 2) "
   ]
  },
  {
   "cell_type": "markdown",
   "id": "0b41b426",
   "metadata": {},
   "source": [
    "# Scale and center variables"
   ]
  },
  {
   "cell_type": "code",
   "execution_count": 6,
   "id": "5b92d852",
   "metadata": {},
   "outputs": [],
   "source": [
    "# scale and center the election periods\n",
    "wtdata$is_before_elections <- scale(wtdata$election_period_cat == 'A', scale=T)\n",
    "wtdata$is_during_elections <- scale(wtdata$election_period_cat == 'B', scale=T)\n",
    "wtdata$is_after_elections <- scale(wtdata$election_period_cat == 'C', scale=T)\n",
    "\n",
    "# scaling the rest of the variables\n",
    "wtdata$rank <- scale(wtdata$rank, scale=T)\n",
    "# invert this value so that the odds ratio, so it the scaled scores\n",
    "# match the intuition, i.e. the 1st result should have a higher (positive)\n",
    "# value. The odds ratio are then easier to interpret.\n",
    "wtdata$inv_rank <- -1 * wtdata$rank\n",
    "\n",
    "# scale and center the representativeness\n",
    "wtdata$news_representativeness <- scale(wtdata$news_representativeness, scale=T)\n",
    "\n",
    "# scale and center engagement variables\n",
    "wtdata$engagement_TI_B1 <- scale(wtdata$engagement_TI_B1, scale=T)\n",
    "wtdata$engagement_TI_C1 <- scale(wtdata$engagement_TI_C1, scale=T)\n",
    "wtdata$engagement_TI_D1 <- scale(wtdata$engagement_TI_D1, scale=T)\n",
    "\n",
    "# convert to factors the within subjects\n",
    "wtdata$search_page <- as.factor(wtdata$search_page)\n",
    "wtdata$participant <- as.factor(wtdata$participant)\n",
    "wtdata$coredomain <- as.factor(wtdata$coredomain)"
   ]
  },
  {
   "cell_type": "markdown",
   "id": "ce0f593f",
   "metadata": {},
   "source": [
    "# Main test (fitting engagement as a proportion)"
   ]
  },
  {
   "cell_type": "markdown",
   "id": "c35654a8",
   "metadata": {},
   "source": [
    "## Dataset B1: previous engagement"
   ]
  },
  {
   "cell_type": "code",
   "execution_count": 7,
   "id": "8ff58432",
   "metadata": {},
   "outputs": [
    {
     "name": "stderr",
     "output_type": "stream",
     "text": [
      "boundary (singular) fit: see help('isSingular')\n",
      "\n"
     ]
    }
   ],
   "source": [
    "# time independent\n",
    "ti_model_B1 <- glmer(is_selected_result ~ \n",
    "\n",
    "                              # main factors\n",
    "                              engagement_TI_B1\n",
    "                            * inv_rank\n",
    "                            * news_representativeness \n",
    "\n",
    "                            # control for demographics\n",
    "                            + is_female\n",
    "                            + is_diverse\n",
    "                            + is_west_germany\n",
    "                            + age\n",
    "                            + education\n",
    "                            + political_alignment\n",
    "\n",
    "                            # control for election day\n",
    "                            + is_during_elections\n",
    "                            + is_after_elections\n",
    "\n",
    "                            # within subject controls\n",
    "                            + (1|search_page)\n",
    "                            + (1|coredomain)\n",
    "                            + (1|participant)\n",
    "\n",
    "                            , data=wtdata, family=binomial)\n",
    "\n",
    "tab_model(ti_model_B1, wrap.labels = F, CSS = css, file = \"statistical_tests/ti_model_B1.html\")"
   ]
  },
  {
   "cell_type": "markdown",
   "id": "ecd1a30b",
   "metadata": {},
   "source": [
    "## Dataset C1: Google associated previous engagement"
   ]
  },
  {
   "cell_type": "code",
   "execution_count": 8,
   "id": "cc8cb41e",
   "metadata": {},
   "outputs": [
    {
     "name": "stderr",
     "output_type": "stream",
     "text": [
      "boundary (singular) fit: see help('isSingular')\n",
      "\n"
     ]
    }
   ],
   "source": [
    "# time independent\n",
    "ti_model_C1 <- glmer(is_selected_result ~ \n",
    "\n",
    "                              # main factors\n",
    "                              engagement_TI_C1\n",
    "                            * inv_rank\n",
    "                            * news_representativeness \n",
    "\n",
    "                            # control for demographics\n",
    "                            + is_female\n",
    "                            + is_diverse\n",
    "                            + is_west_germany\n",
    "                            + age\n",
    "                            + education\n",
    "                            + political_alignment\n",
    "\n",
    "                            # control for election day\n",
    "                            + is_during_elections\n",
    "                            + is_after_elections\n",
    "\n",
    "                            # within subject controls\n",
    "                            + (1|search_page)\n",
    "                            + (1|coredomain)\n",
    "                            + (1|participant)\n",
    "\n",
    "                            , data=wtdata, family=binomial)\n",
    "\n",
    "tab_model(ti_model_C1, wrap.labels = F, CSS = css, file = \"statistical_tests/ti_model_C1.html\")"
   ]
  },
  {
   "cell_type": "markdown",
   "id": "a8f0e1c7",
   "metadata": {},
   "source": [
    "## Dataset D1: non Google associated previous engagement"
   ]
  },
  {
   "cell_type": "code",
   "execution_count": 9,
   "id": "34a53658",
   "metadata": {},
   "outputs": [
    {
     "name": "stderr",
     "output_type": "stream",
     "text": [
      "boundary (singular) fit: see help('isSingular')\n",
      "\n"
     ]
    }
   ],
   "source": [
    "# time independent\n",
    "ti_model_D1 <- glmer(is_selected_result ~ \n",
    "\n",
    "                              # main factors\n",
    "                              engagement_TI_D1\n",
    "                            * inv_rank\n",
    "                            * news_representativeness \n",
    "\n",
    "                            # control for demographics\n",
    "                            + is_female\n",
    "                            + is_diverse\n",
    "                            + is_west_germany\n",
    "                            + age\n",
    "                            + education\n",
    "                            + political_alignment\n",
    "\n",
    "                            # control for election day\n",
    "                            + is_during_elections\n",
    "                            + is_after_elections\n",
    "\n",
    "                            # within subject controls\n",
    "                            + (1|search_page)\n",
    "                            + (1|coredomain)\n",
    "                            + (1|participant)\n",
    "\n",
    "                            , data=wtdata, family=binomial)\n",
    "\n",
    "tab_model(ti_model_D1, wrap.labels = F, CSS = css, file = \"statistical_tests/ti_model_D1.html\")"
   ]
  }
 ],
 "metadata": {
  "hide_input": false,
  "kernelspec": {
   "display_name": "R",
   "language": "R",
   "name": "ir"
  },
  "language_info": {
   "codemirror_mode": "r",
   "file_extension": ".r",
   "mimetype": "text/x-r-source",
   "name": "R",
   "pygments_lexer": "r",
   "version": "4.2.1"
  }
 },
 "nbformat": 4,
 "nbformat_minor": 5
}
