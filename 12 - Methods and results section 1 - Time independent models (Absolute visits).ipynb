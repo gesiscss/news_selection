{
 "cells": [
  {
   "cell_type": "code",
   "execution_count": 1,
   "id": "765574ab",
   "metadata": {},
   "outputs": [
    {
     "name": "stderr",
     "output_type": "stream",
     "text": [
      "Loading required package: Matrix\n",
      "\n",
      "#refugeeswelcome\n",
      "\n",
      "Loading required package: lattice\n",
      "\n",
      "Loading required package: survival\n",
      "\n",
      "Loading required package: Formula\n",
      "\n",
      "Loading required package: ggplot2\n",
      "\n",
      "\n",
      "Attaching package: ‘Hmisc’\n",
      "\n",
      "\n",
      "The following objects are masked from ‘package:base’:\n",
      "\n",
      "    format.pval, units\n",
      "\n",
      "\n"
     ]
    }
   ],
   "source": [
    "library(lme4)\n",
    "library(sjPlot)\n",
    "library(Hmisc)\n",
    "\n",
    "library(gridExtra)\n",
    "library(ggplot2)\n",
    "\n",
    "# custom style for tab models\n",
    "css = list(\n",
    "    css.thead = 'border-top: double; text-align:center; font-style:normal; font-weight:bold; padding:0.1cm;',\n",
    "    css.tdata = 'padding:0.05cm; padding-left:0.2cm; padding-right:0.2cm; text-align:left; vertical-align:top;',\n",
    "    css.depvarhead = 'text-align:center; border-bottom:1px solid; font-style:italic; font-weight:bold',\n",
    "    css.summary = 'padding-top:0.05cm; padding-bottom:0.05cm;'\n",
    "  )"
   ]
  },
  {
   "cell_type": "markdown",
   "id": "9d263dd5",
   "metadata": {},
   "source": [
    "# Read Data"
   ]
  },
  {
   "cell_type": "code",
   "execution_count": 2,
   "id": "7828fccd",
   "metadata": {},
   "outputs": [],
   "source": [
    "wtdata <- read.csv(\"data/dataset_A_linked.csv\")\n",
    "\n",
    "# filter the relevant analysis period\n",
    "wtdata = wtdata[wtdata$is_analysis_period,]"
   ]
  },
  {
   "cell_type": "code",
   "execution_count": 3,
   "id": "c1589bea",
   "metadata": {},
   "outputs": [
    {
     "data": {
      "text/html": [
       "<style>\n",
       ".list-inline {list-style: none; margin:0; padding: 0}\n",
       ".list-inline>li {display: inline-block}\n",
       ".list-inline>li:not(:last-child)::after {content: \"\\00b7\"; padding: 0 .5ex}\n",
       "</style>\n",
       "<ol class=list-inline><li>'search_page'</li><li>'election_period_cat'</li><li>'total_results_per_page'</li><li>'rank'</li><li>'is_selected_result'</li><li>'coredomain'</li><li>'news_representativeness'</li><li>'is_analysis_period'</li><li>'visits_TI_B1'</li><li>'allnews_visits_TI_B1'</li><li>'engagement_TI_B1'</li><li>'visits_TI_C1'</li><li>'allnews_visits_TI_C1'</li><li>'engagement_TI_C1'</li><li>'visits_TI_D1'</li><li>'allnews_visits_TI_D1'</li><li>'engagement_TI_D1'</li><li>'visits_TD_B'</li><li>'allnews_visits_TD_B'</li><li>'engagement_TD_B'</li><li>'visits_TD_C'</li><li>'allnews_visits_TD_C'</li><li>'engagement_TD_C'</li><li>'visits_TD_D'</li><li>'allnews_visits_TD_D'</li><li>'engagement_TD_D'</li><li>'participant'</li><li>'age'</li><li>'education'</li><li>'political_alignment'</li><li>'is_west_germany'</li><li>'is_female'</li><li>'is_diverse'</li><li>'age_val'</li><li>'education_val'</li><li>'political_alignment_val'</li><li>'is_west_germany_val'</li><li>'is_female_val'</li><li>'is_diverse_val'</li></ol>\n"
      ],
      "text/latex": [
       "\\begin{enumerate*}\n",
       "\\item 'search\\_page'\n",
       "\\item 'election\\_period\\_cat'\n",
       "\\item 'total\\_results\\_per\\_page'\n",
       "\\item 'rank'\n",
       "\\item 'is\\_selected\\_result'\n",
       "\\item 'coredomain'\n",
       "\\item 'news\\_representativeness'\n",
       "\\item 'is\\_analysis\\_period'\n",
       "\\item 'visits\\_TI\\_B1'\n",
       "\\item 'allnews\\_visits\\_TI\\_B1'\n",
       "\\item 'engagement\\_TI\\_B1'\n",
       "\\item 'visits\\_TI\\_C1'\n",
       "\\item 'allnews\\_visits\\_TI\\_C1'\n",
       "\\item 'engagement\\_TI\\_C1'\n",
       "\\item 'visits\\_TI\\_D1'\n",
       "\\item 'allnews\\_visits\\_TI\\_D1'\n",
       "\\item 'engagement\\_TI\\_D1'\n",
       "\\item 'visits\\_TD\\_B'\n",
       "\\item 'allnews\\_visits\\_TD\\_B'\n",
       "\\item 'engagement\\_TD\\_B'\n",
       "\\item 'visits\\_TD\\_C'\n",
       "\\item 'allnews\\_visits\\_TD\\_C'\n",
       "\\item 'engagement\\_TD\\_C'\n",
       "\\item 'visits\\_TD\\_D'\n",
       "\\item 'allnews\\_visits\\_TD\\_D'\n",
       "\\item 'engagement\\_TD\\_D'\n",
       "\\item 'participant'\n",
       "\\item 'age'\n",
       "\\item 'education'\n",
       "\\item 'political\\_alignment'\n",
       "\\item 'is\\_west\\_germany'\n",
       "\\item 'is\\_female'\n",
       "\\item 'is\\_diverse'\n",
       "\\item 'age\\_val'\n",
       "\\item 'education\\_val'\n",
       "\\item 'political\\_alignment\\_val'\n",
       "\\item 'is\\_west\\_germany\\_val'\n",
       "\\item 'is\\_female\\_val'\n",
       "\\item 'is\\_diverse\\_val'\n",
       "\\end{enumerate*}\n"
      ],
      "text/markdown": [
       "1. 'search_page'\n",
       "2. 'election_period_cat'\n",
       "3. 'total_results_per_page'\n",
       "4. 'rank'\n",
       "5. 'is_selected_result'\n",
       "6. 'coredomain'\n",
       "7. 'news_representativeness'\n",
       "8. 'is_analysis_period'\n",
       "9. 'visits_TI_B1'\n",
       "10. 'allnews_visits_TI_B1'\n",
       "11. 'engagement_TI_B1'\n",
       "12. 'visits_TI_C1'\n",
       "13. 'allnews_visits_TI_C1'\n",
       "14. 'engagement_TI_C1'\n",
       "15. 'visits_TI_D1'\n",
       "16. 'allnews_visits_TI_D1'\n",
       "17. 'engagement_TI_D1'\n",
       "18. 'visits_TD_B'\n",
       "19. 'allnews_visits_TD_B'\n",
       "20. 'engagement_TD_B'\n",
       "21. 'visits_TD_C'\n",
       "22. 'allnews_visits_TD_C'\n",
       "23. 'engagement_TD_C'\n",
       "24. 'visits_TD_D'\n",
       "25. 'allnews_visits_TD_D'\n",
       "26. 'engagement_TD_D'\n",
       "27. 'participant'\n",
       "28. 'age'\n",
       "29. 'education'\n",
       "30. 'political_alignment'\n",
       "31. 'is_west_germany'\n",
       "32. 'is_female'\n",
       "33. 'is_diverse'\n",
       "34. 'age_val'\n",
       "35. 'education_val'\n",
       "36. 'political_alignment_val'\n",
       "37. 'is_west_germany_val'\n",
       "38. 'is_female_val'\n",
       "39. 'is_diverse_val'\n",
       "\n",
       "\n"
      ],
      "text/plain": [
       " [1] \"search_page\"             \"election_period_cat\"    \n",
       " [3] \"total_results_per_page\"  \"rank\"                   \n",
       " [5] \"is_selected_result\"      \"coredomain\"             \n",
       " [7] \"news_representativeness\" \"is_analysis_period\"     \n",
       " [9] \"visits_TI_B1\"            \"allnews_visits_TI_B1\"   \n",
       "[11] \"engagement_TI_B1\"        \"visits_TI_C1\"           \n",
       "[13] \"allnews_visits_TI_C1\"    \"engagement_TI_C1\"       \n",
       "[15] \"visits_TI_D1\"            \"allnews_visits_TI_D1\"   \n",
       "[17] \"engagement_TI_D1\"        \"visits_TD_B\"            \n",
       "[19] \"allnews_visits_TD_B\"     \"engagement_TD_B\"        \n",
       "[21] \"visits_TD_C\"             \"allnews_visits_TD_C\"    \n",
       "[23] \"engagement_TD_C\"         \"visits_TD_D\"            \n",
       "[25] \"allnews_visits_TD_D\"     \"engagement_TD_D\"        \n",
       "[27] \"participant\"             \"age\"                    \n",
       "[29] \"education\"               \"political_alignment\"    \n",
       "[31] \"is_west_germany\"         \"is_female\"              \n",
       "[33] \"is_diverse\"              \"age_val\"                \n",
       "[35] \"education_val\"           \"political_alignment_val\"\n",
       "[37] \"is_west_germany_val\"     \"is_female_val\"          \n",
       "[39] \"is_diverse_val\"         "
      ]
     },
     "metadata": {},
     "output_type": "display_data"
    }
   ],
   "source": [
    "colnames(wtdata)"
   ]
  },
  {
   "cell_type": "markdown",
   "id": "0b41b426",
   "metadata": {},
   "source": [
    "# Scale and center variables"
   ]
  },
  {
   "cell_type": "code",
   "execution_count": 4,
   "id": "5b92d852",
   "metadata": {},
   "outputs": [],
   "source": [
    "# scale and center the election periods\n",
    "wtdata$is_before_elections <- scale(wtdata$election_period_cat == 'A', scale=T)\n",
    "wtdata$is_during_elections <- scale(wtdata$election_period_cat == 'B', scale=T)\n",
    "wtdata$is_after_elections <- scale(wtdata$election_period_cat == 'C', scale=T)\n",
    "\n",
    "# scaling the rest of the variables\n",
    "wtdata$rank <- scale(wtdata$rank, scale=T)\n",
    "# invert this value so that the odds ratio, so it the scaled scores\n",
    "# match the intuition, i.e. the 1st result should have a higher (positive)\n",
    "# value. The odds ratio are then easier to interpret.\n",
    "wtdata$inv_rank <- -1 * wtdata$rank\n",
    "\n",
    "# scale and center the representativeness\n",
    "wtdata$news_representativeness <- scale(wtdata$news_representativeness, scale=T)\n",
    "\n",
    "# scale and center engagement variables\n",
    "wtdata$engagement_TI_B1 <- scale(wtdata$engagement_TI_B1, scale=T)\n",
    "wtdata$engagement_TI_C1 <- scale(wtdata$engagement_TI_C1, scale=T)\n",
    "wtdata$engagement_TI_D1 <- scale(wtdata$engagement_TI_D1, scale=T)\n",
    "\n",
    "# scale and center engagement variables\n",
    "wtdata$visits_TI_B1 <- scale(wtdata$visits_TI_B1, scale=T)\n",
    "wtdata$visits_TI_C1 <- scale(wtdata$visits_TI_C1, scale=T)\n",
    "wtdata$visits_TI_D1 <- scale(wtdata$visits_TI_D1, scale=T)\n",
    "\n",
    "# scale and center engagement variables\n",
    "wtdata$allnews_visits_TI_B1 <- scale(wtdata$allnews_visits_TI_B1, scale=T)\n",
    "wtdata$allnews_visits_TI_C1 <- scale(wtdata$allnews_visits_TI_C1, scale=T)\n",
    "wtdata$allnews_visits_TI_D1 <- scale(wtdata$allnews_visits_TI_D1, scale=T)\n",
    "\n",
    "# convert to factors the within subjects\n",
    "wtdata$search_page <- as.factor(wtdata$search_page)\n",
    "wtdata$participant <- as.factor(wtdata$participant)\n",
    "wtdata$coredomain <- as.factor(wtdata$coredomain)"
   ]
  },
  {
   "cell_type": "markdown",
   "id": "c35654a8",
   "metadata": {},
   "source": [
    "# Dataset B1: previous engagement"
   ]
  },
  {
   "cell_type": "code",
   "execution_count": 5,
   "id": "8ff58432",
   "metadata": {},
   "outputs": [
    {
     "name": "stderr",
     "output_type": "stream",
     "text": [
      "boundary (singular) fit: see help('isSingular')\n",
      "\n"
     ]
    }
   ],
   "source": [
    "# time independent\n",
    "ti_model_B1 <- glmer(is_selected_result ~ \n",
    "\n",
    "                            # main factors\n",
    "                              visits_TI_B1\n",
    "                            * inv_rank\n",
    "                            * news_representativeness \n",
    "                     \n",
    "                            # control by total news visits\n",
    "                            + allnews_visits_TI_B1\n",
    "\n",
    "                            # control for demographics\n",
    "                            + is_female\n",
    "                            + is_diverse\n",
    "                            + is_west_germany\n",
    "                            + age\n",
    "                            + education\n",
    "                            + political_alignment\n",
    "\n",
    "                            # control for election day\n",
    "                            + is_during_elections\n",
    "                            + is_after_elections\n",
    "\n",
    "                            # within subject controls\n",
    "                            + (1|search_page)\n",
    "                            + (1|coredomain)\n",
    "                            + (1|participant)\n",
    "\n",
    "                            , data=wtdata, family=binomial)\n",
    "\n",
    "tab_model(ti_model_B1, wrap.labels = F, CSS = css, file = \"statistical_tests/absolute_visits/ti_model_B1.html\")"
   ]
  },
  {
   "cell_type": "markdown",
   "id": "ecd1a30b",
   "metadata": {},
   "source": [
    "# Dataset C1: Google associated previous engagement"
   ]
  },
  {
   "cell_type": "code",
   "execution_count": 6,
   "id": "cc8cb41e",
   "metadata": {},
   "outputs": [
    {
     "name": "stderr",
     "output_type": "stream",
     "text": [
      "boundary (singular) fit: see help('isSingular')\n",
      "\n"
     ]
    }
   ],
   "source": [
    "# time independent\n",
    "ti_model_C1 <- glmer(is_selected_result ~ \n",
    "\n",
    "                            # main factors\n",
    "                              visits_TI_C1\n",
    "                            * inv_rank\n",
    "                            * news_representativeness \n",
    "                     \n",
    "                            # control by total news visits\n",
    "                            + allnews_visits_TI_C1\n",
    "\n",
    "                            # control for demographics\n",
    "                            + is_female\n",
    "                            + is_diverse\n",
    "                            + is_west_germany\n",
    "                            + age\n",
    "                            + education\n",
    "                            + political_alignment\n",
    "\n",
    "                            # control for election day\n",
    "                            + is_during_elections\n",
    "                            + is_after_elections\n",
    "\n",
    "                            # within subject controls\n",
    "                            + (1|search_page)\n",
    "                            + (1|coredomain)\n",
    "                            + (1|participant)\n",
    "\n",
    "                            , data=wtdata, family=binomial)\n",
    "\n",
    "tab_model(ti_model_C1, wrap.labels = F, CSS = css, file = \"statistical_tests/absolute_visits/ti_model_C1.html\")\n"
   ]
  },
  {
   "cell_type": "markdown",
   "id": "a8f0e1c7",
   "metadata": {},
   "source": [
    "# Dataset D1: non Google associated previous engagement"
   ]
  },
  {
   "cell_type": "code",
   "execution_count": 7,
   "id": "34a53658",
   "metadata": {},
   "outputs": [
    {
     "name": "stderr",
     "output_type": "stream",
     "text": [
      "boundary (singular) fit: see help('isSingular')\n",
      "\n"
     ]
    }
   ],
   "source": [
    "# time independent\n",
    "ti_model_D1 <- glmer(is_selected_result ~ \n",
    "\n",
    "                            # main factors\n",
    "                              visits_TI_D1\n",
    "                            * inv_rank\n",
    "                            * news_representativeness \n",
    "                     \n",
    "                            # control by total news visits\n",
    "                            + allnews_visits_TI_D1\n",
    "\n",
    "                            # control for demographics\n",
    "                            + is_female\n",
    "                            + is_diverse\n",
    "                            + is_west_germany\n",
    "                            + age\n",
    "                            + education\n",
    "                            + political_alignment\n",
    "\n",
    "                            # control for election day\n",
    "                            + is_during_elections\n",
    "                            + is_after_elections\n",
    "\n",
    "                            # within subject controls\n",
    "                            + (1|search_page)\n",
    "                            + (1|coredomain)\n",
    "                            + (1|participant)\n",
    "\n",
    "                            , data=wtdata, family=binomial)\n",
    "\n",
    "\n",
    "tab_model(ti_model_D1, wrap.labels = F, CSS = css, file = \"statistical_tests/absolute_visits/ti_model_D1.html\")"
   ]
  },
  {
   "cell_type": "code",
   "execution_count": null,
   "id": "82897d23",
   "metadata": {},
   "outputs": [],
   "source": []
  },
  {
   "cell_type": "code",
   "execution_count": null,
   "id": "37cb6de7",
   "metadata": {},
   "outputs": [],
   "source": []
  }
 ],
 "metadata": {
  "hide_input": false,
  "kernelspec": {
   "display_name": "R",
   "language": "R",
   "name": "ir"
  },
  "language_info": {
   "codemirror_mode": "r",
   "file_extension": ".r",
   "mimetype": "text/x-r-source",
   "name": "R",
   "pygments_lexer": "r",
   "version": "4.2.1"
  }
 },
 "nbformat": 4,
 "nbformat_minor": 5
}
