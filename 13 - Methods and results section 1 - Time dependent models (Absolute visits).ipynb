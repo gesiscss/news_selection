{
 "cells": [
  {
   "cell_type": "code",
   "execution_count": 1,
   "id": "810ba2b6",
   "metadata": {},
   "outputs": [
    {
     "name": "stderr",
     "output_type": "stream",
     "text": [
      "Loading required package: Matrix\n",
      "\n",
      "Loading required package: lattice\n",
      "\n",
      "Loading required package: survival\n",
      "\n",
      "Loading required package: Formula\n",
      "\n",
      "Loading required package: ggplot2\n",
      "\n",
      "\n",
      "Attaching package: ‘Hmisc’\n",
      "\n",
      "\n",
      "The following objects are masked from ‘package:base’:\n",
      "\n",
      "    format.pval, units\n",
      "\n",
      "\n"
     ]
    }
   ],
   "source": [
    "library(lme4)\n",
    "library(sjPlot)\n",
    "library(Hmisc)\n",
    "\n",
    "library(gridExtra)\n",
    "library(ggplot2)\n",
    "\n",
    "\n",
    "# custom style for tab models\n",
    "css = list(\n",
    "    css.thead = 'border-top: double; text-align:center; font-style:normal; font-weight:bold; padding:0.1cm;',\n",
    "    css.tdata = 'padding:0.05cm; padding-left:0.2cm; padding-right:0.2cm; text-align:left; vertical-align:top;',\n",
    "    css.depvarhead = 'text-align:center; border-bottom:1px solid; font-style:italic; font-weight:bold',\n",
    "    css.summary = 'padding-top:0.05cm; padding-bottom:0.05cm;'\n",
    "  )"
   ]
  },
  {
   "cell_type": "markdown",
   "id": "854dba27",
   "metadata": {},
   "source": [
    "# Read Data"
   ]
  },
  {
   "cell_type": "code",
   "execution_count": 2,
   "id": "4ab76ca5",
   "metadata": {},
   "outputs": [],
   "source": [
    "wtdata <- read.csv(\"data/dataset_A_linked.csv\")"
   ]
  },
  {
   "cell_type": "markdown",
   "id": "4f4f36d3",
   "metadata": {},
   "source": [
    "# Scale and center variables"
   ]
  },
  {
   "cell_type": "code",
   "execution_count": 3,
   "id": "5b92d852",
   "metadata": {},
   "outputs": [],
   "source": [
    "# scale and center the election periods\n",
    "wtdata$is_before_elections <- scale(wtdata$election_period_cat == 'A', scale=T)\n",
    "wtdata$is_during_elections <- scale(wtdata$election_period_cat == 'B', scale=T)\n",
    "wtdata$is_after_elections <- scale(wtdata$election_period_cat == 'C', scale=T)\n",
    "\n",
    "# scaling the rest of the variables\n",
    "wtdata$rank <- scale(wtdata$rank, scale=T)\n",
    "# invert this value so that the odds ratio, so it the scaled scores\n",
    "# match the intuition, i.e. the 1st result should have a higher (positive)\n",
    "# value. The odds ratio are then easier to interpret.\n",
    "wtdata$inv_rank <- -1 * wtdata$rank\n",
    "\n",
    "# scale and center the representativeness\n",
    "wtdata$news_representativeness <- scale(wtdata$news_representativeness, scale=T)\n",
    "\n",
    "# scale and center engagement variables\n",
    "wtdata$engagement_TD_B <- scale(wtdata$engagement_TD_B, scale=T)\n",
    "wtdata$engagement_TD_C <- scale(wtdata$engagement_TD_C, scale=T)\n",
    "wtdata$engagement_TD_D <- scale(wtdata$engagement_TD_D, scale=T)\n",
    "\n",
    "# scale and center engagement variables\n",
    "wtdata$visits_TD_B <- scale(wtdata$visits_TD_B, scale=T)\n",
    "wtdata$visits_TD_C <- scale(wtdata$visits_TD_C, scale=T)\n",
    "wtdata$visits_TD_D <- scale(wtdata$visits_TD_D, scale=T)\n",
    "\n",
    "# scale and center engagement variables\n",
    "wtdata$allnews_visits_TD_B <- scale(wtdata$allnews_visits_TD_B, scale=T)\n",
    "wtdata$allnews_visits_TD_C <- scale(wtdata$allnews_visits_TD_C, scale=T)\n",
    "wtdata$allnews_visits_TD_D <- scale(wtdata$allnews_visits_TD_D, scale=T)\n",
    "\n",
    "# convert to factors the within subjects\n",
    "wtdata$search_page <- as.factor(wtdata$search_page)\n",
    "wtdata$participant <- as.factor(wtdata$participant)\n",
    "wtdata$coredomain <- as.factor(wtdata$coredomain)"
   ]
  },
  {
   "cell_type": "markdown",
   "id": "3ef9169a",
   "metadata": {},
   "source": [
    "# Dataset B: engagement"
   ]
  },
  {
   "cell_type": "code",
   "execution_count": 4,
   "id": "8ff58432",
   "metadata": {},
   "outputs": [
    {
     "name": "stderr",
     "output_type": "stream",
     "text": [
      "boundary (singular) fit: see help('isSingular')\n",
      "\n"
     ]
    }
   ],
   "source": [
    "# time dependent\n",
    "td_model_B <- glmer(is_selected_result ~ \n",
    "\n",
    "                            # main factors\n",
    "                              visits_TD_B\n",
    "                            * inv_rank\n",
    "                            * news_representativeness \n",
    "                    \n",
    "                            # control by total news visits\n",
    "                            + allnews_visits_TD_B\n",
    "\n",
    "                            # control for demographics\n",
    "                            + is_female\n",
    "                            + is_diverse\n",
    "                            + is_west_germany\n",
    "                            + age\n",
    "                            + education\n",
    "                            + political_alignment\n",
    "\n",
    "                            # control for election day\n",
    "                            + is_during_elections\n",
    "                            + is_after_elections\n",
    "\n",
    "                            # within subject controls\n",
    "                            + (1|search_page)\n",
    "                            + (1|coredomain)\n",
    "                            + (1|participant)\n",
    "\n",
    "                            , data=wtdata, family=binomial)\n",
    "\n",
    "tab_model(td_model_B, wrap.labels=F, CSS=css, file = \"statistical_tests/absolute_visits/td_model_B.html\")\n"
   ]
  },
  {
   "cell_type": "markdown",
   "id": "a879093c",
   "metadata": {},
   "source": [
    "# Dataset C: Google associated engagement"
   ]
  },
  {
   "cell_type": "code",
   "execution_count": 5,
   "id": "e9d02bb3",
   "metadata": {},
   "outputs": [
    {
     "name": "stderr",
     "output_type": "stream",
     "text": [
      "boundary (singular) fit: see help('isSingular')\n",
      "\n"
     ]
    }
   ],
   "source": [
    "# time independent\n",
    "ti_model_C <- glmer(is_selected_result ~ \n",
    "\n",
    "                            # main factors\n",
    "                              visits_TD_C\n",
    "                            * inv_rank\n",
    "                            * news_representativeness \n",
    "                    \n",
    "                            # control by total news visits\n",
    "                            + allnews_visits_TD_C\n",
    "\n",
    "                            # control for demographics\n",
    "                            + is_female\n",
    "                            + is_diverse\n",
    "                            + is_west_germany\n",
    "                            + age\n",
    "                            + education\n",
    "                            + political_alignment\n",
    "\n",
    "                            # control for election day\n",
    "                            + is_during_elections\n",
    "                            + is_after_elections\n",
    "\n",
    "                            # within subject controls\n",
    "                            + (1|search_page)\n",
    "                            + (1|coredomain)\n",
    "                            + (1|participant)\n",
    "\n",
    "                            , data=wtdata, family=binomial)\n",
    "\n",
    "tab_model(ti_model_C, wrap.labels=F, CSS=css, file = \"statistical_tests/absolute_visits/td_model_C.html\")\n"
   ]
  },
  {
   "cell_type": "markdown",
   "id": "2b0ef059",
   "metadata": {},
   "source": [
    "# Dataset D: non Google associated engagement"
   ]
  },
  {
   "cell_type": "code",
   "execution_count": 6,
   "id": "a38ead2b",
   "metadata": {},
   "outputs": [
    {
     "name": "stderr",
     "output_type": "stream",
     "text": [
      "boundary (singular) fit: see help('isSingular')\n",
      "\n"
     ]
    }
   ],
   "source": [
    "# time independent\n",
    "ti_model_D <- glmer(is_selected_result ~ \n",
    "\n",
    "                            # main factors\n",
    "                              visits_TD_D\n",
    "                            * inv_rank\n",
    "                            * news_representativeness \n",
    "                    \n",
    "                            # control by total news visits\n",
    "                            + allnews_visits_TD_D\n",
    "                    \n",
    "                            # control for demographics\n",
    "                            + is_female\n",
    "                            + is_diverse\n",
    "                            + is_west_germany\n",
    "                            + age\n",
    "                            + education\n",
    "                            + political_alignment\n",
    "\n",
    "                            # control for election day\n",
    "                            + is_during_elections\n",
    "                            + is_after_elections\n",
    "\n",
    "                            # within subject controls\n",
    "                            + (1|search_page)\n",
    "                            + (1|coredomain)\n",
    "                            + (1|participant)\n",
    "\n",
    "                            , data=wtdata, family=binomial)\n",
    "\n",
    "tab_model(ti_model_D, wrap.labels=F, CSS=css, file = \"statistical_tests/absolute_visits/td_model_D.html\")\n"
   ]
  },
  {
   "cell_type": "code",
   "execution_count": null,
   "id": "6507092b",
   "metadata": {},
   "outputs": [],
   "source": []
  }
 ],
 "metadata": {
  "hide_input": false,
  "kernelspec": {
   "display_name": "R",
   "language": "R",
   "name": "ir"
  },
  "language_info": {
   "codemirror_mode": "r",
   "file_extension": ".r",
   "mimetype": "text/x-r-source",
   "name": "R",
   "pygments_lexer": "r",
   "version": "4.2.1"
  }
 },
 "nbformat": 4,
 "nbformat_minor": 5
}
