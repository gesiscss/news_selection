{
 "cells": [
  {
   "cell_type": "code",
   "execution_count": 1,
   "id": "810ba2b6",
   "metadata": {},
   "outputs": [
    {
     "name": "stderr",
     "output_type": "stream",
     "text": [
      "Loading required package: Matrix\n",
      "\n",
      "Learn more about sjPlot with 'browseVignettes(\"sjPlot\")'.\n",
      "\n",
      "Loading required package: lattice\n",
      "\n",
      "Loading required package: survival\n",
      "\n",
      "Loading required package: Formula\n",
      "\n",
      "Loading required package: ggplot2\n",
      "\n",
      "\n",
      "Attaching package: ‘Hmisc’\n",
      "\n",
      "\n",
      "The following objects are masked from ‘package:base’:\n",
      "\n",
      "    format.pval, units\n",
      "\n",
      "\n"
     ]
    }
   ],
   "source": [
    "library(lme4)\n",
    "library(sjPlot)\n",
    "library(Hmisc)\n",
    "\n",
    "library(gridExtra)\n",
    "library(ggplot2)\n",
    "\n",
    "\n",
    "# custom style for tab models\n",
    "css = list(\n",
    "    css.thead = 'border-top: double; text-align:center; font-style:normal; font-weight:bold; padding:0.1cm;',\n",
    "    css.tdata = 'padding:0.05cm; padding-left:0.2cm; padding-right:0.2cm; text-align:left; vertical-align:top;',\n",
    "    css.depvarhead = 'text-align:center; border-bottom:1px solid; font-style:italic; font-weight:bold',\n",
    "    css.summary = 'padding-top:0.05cm; padding-bottom:0.05cm;'\n",
    "  )"
   ]
  },
  {
   "cell_type": "markdown",
   "id": "854dba27",
   "metadata": {},
   "source": [
    "# Read Data"
   ]
  },
  {
   "cell_type": "code",
   "execution_count": 2,
   "id": "4ab76ca5",
   "metadata": {},
   "outputs": [],
   "source": [
    "wtdata <- read.csv(\"data/dataset_A_linked.csv\")"
   ]
  },
  {
   "cell_type": "markdown",
   "id": "a8f71bc8",
   "metadata": {},
   "source": [
    "# Demographics and statistics"
   ]
  },
  {
   "cell_type": "code",
   "execution_count": 3,
   "id": "2aca4df3",
   "metadata": {},
   "outputs": [
    {
     "name": "stdout",
     "output_type": "stream",
     "text": [
      "Number of results: 5380 \n",
      "Number of search pages: 1221 \n",
      "Number of results: 280 \n"
     ]
    }
   ],
   "source": [
    "# number of results\n",
    "cat(paste('Number of results:', nrow(wtdata), '\\n'))\n",
    "\n",
    "# number of search pages\n",
    "cat(paste('Number of search pages:', nrow(wtdata[!duplicated(wtdata['search_page']),]), '\\n'))\n",
    "\n",
    "# remove the duplicates (as one participant can be measured multiple times)\n",
    "wtparticipants = wtdata[!duplicated(wtdata['participant']), \n",
    "                        c('participant', 'age_val', 'education_val', 'political_alignment_val', \n",
    "                          'is_west_germany_val', 'is_female_val', 'is_diverse_val')]\n",
    "\n",
    "# number of participants\n",
    "cat(paste('Number of results:', nrow(wtparticipants), '\\n'))\n"
   ]
  },
  {
   "cell_type": "code",
   "execution_count": 4,
   "id": "b40ad54d",
   "metadata": {},
   "outputs": [
    {
     "name": "stdout",
     "output_type": "stream",
     "text": [
      "\n",
      "\n",
      "####### is_female_val ######\n",
      "wtparticipants[[col]] \n",
      "       n  missing distinct \n",
      "     278        2        2 \n",
      "                      \n",
      "Value      FALSE  TRUE\n",
      "Frequency    156   122\n",
      "Proportion 0.561 0.439\n",
      "#######is_female_val ######\n",
      "\n",
      "\n",
      "####### is_diverse_val ######\n",
      "wtparticipants[[col]] \n",
      "       n  missing distinct \n",
      "     278        2        2 \n",
      "                      \n",
      "Value      FALSE  TRUE\n",
      "Frequency    277     1\n",
      "Proportion 0.996 0.004\n",
      "#######is_diverse_val ######\n",
      "\n",
      "\n",
      "####### is_west_germany_val ######\n",
      "wtparticipants[[col]] \n",
      "       n  missing distinct     Info     Mean      Gmd \n",
      "     278        2        2    0.508    1.784   0.3397 \n",
      "                      \n",
      "Value          1     2\n",
      "Frequency     60   218\n",
      "Proportion 0.216 0.784\n",
      "#######is_west_germany_val ######\n",
      "\n",
      "\n",
      "####### education_val ######\n",
      "wtparticipants[[col]] \n",
      "       n  missing distinct     Info     Mean      Gmd \n",
      "     278        2        3      0.8    2.421   0.7135 \n",
      "                            \n",
      "Value          1     2     3\n",
      "Frequency     34    93   151\n",
      "Proportion 0.122 0.335 0.543\n",
      "#######education_val ######\n",
      "\n",
      "\n",
      "####### age_val ######\n",
      "wtparticipants[[col]] \n",
      "       n  missing distinct     Info     Mean      Gmd      .05      .10 \n",
      "     278        2       57    0.999    46.73    16.07     23.0     27.7 \n",
      "     .25      .50      .75      .90      .95 \n",
      "    36.0     48.0     57.0     65.0     69.0 \n",
      "\n",
      "lowest : 18 19 20 21 22, highest: 70 71 72 73 74\n",
      "#######age_val ######\n",
      "\n",
      "\n",
      "####### political_alignment_val ######\n",
      "wtparticipants[[col]] \n",
      "       n  missing distinct     Info     Mean      Gmd      .05      .10 \n",
      "     275        5       10    0.967    5.447    2.096      2.7      3.0 \n",
      "     .25      .50      .75      .90      .95 \n",
      "     4.0      6.0      6.0      8.0      9.0 \n",
      "\n",
      "lowest :  1  2  3  4  5, highest:  6  7  8  9 10\n",
      "                                                                      \n",
      "Value          1     2     3     4     5     6     7     8     9    10\n",
      "Frequency      4    10    33    37    46    77    31    20    12     5\n",
      "Proportion 0.015 0.036 0.120 0.135 0.167 0.280 0.113 0.073 0.044 0.018\n",
      "#######political_alignment_val ######\n"
     ]
    }
   ],
   "source": [
    "# generate the descriptive statistics for each variable\n",
    "for (col in c('is_female_val',\n",
    "              'is_diverse_val',\n",
    "              'is_west_germany_val', \n",
    "              'education_val',\n",
    "              'age_val',   \n",
    "              'political_alignment_val'\n",
    "              )){\n",
    "    cat(paste0('\\n\\n####### ',col,' ######\\n'))\n",
    "    print(describe(wtparticipants[[col]]))\n",
    "    cat(paste0('#######',col,' ######\\n'))\n",
    "}"
   ]
  },
  {
   "cell_type": "code",
   "execution_count": 5,
   "id": "88d0bf38",
   "metadata": {},
   "outputs": [
    {
     "name": "stderr",
     "output_type": "stream",
     "text": [
      "Warning message:\n",
      "“Removed 2 rows containing non-finite values (stat_bin).”\n",
      "Warning message:\n",
      "“Removed 5 rows containing non-finite values (stat_bin).”\n"
     ]
    },
    {
     "data": {
      "image/png": "[encoded data removed]",
      "text/plain": [
       "plot without title"
      ]
     },
     "metadata": {
      "image/png": {
       "height": 300,
       "width": 840
      }
     },
     "output_type": "display_data"
    }
   ],
   "source": [
    "# Distribution of age\n",
    "age_plot = ggplot(wtparticipants, aes(x=age_val)) + \n",
    "  geom_histogram(binwidth=5, colour=\"black\", fill=\"white\") +\n",
    "   theme_linedraw()  + theme(text = element_text(size = 20))  +\n",
    "   xlab(\"Age\") + ylab(\"Participants (N)\") +\n",
    "   theme(plot.margin = unit(c(0,0.5,0,0), \"cm\"))\n",
    "\n",
    "# Distribution of the political alignment\n",
    "pol_align_plot = ggplot(wtparticipants, aes(x=political_alignment_val)) + \n",
    "  geom_histogram(binwidth=1, colour=\"black\", fill=\"white\") +\n",
    "   theme_linedraw()  + theme(text = element_text(size = 20)) +\n",
    "  xlab(\"Political Alignment\") + ylab(\"Participants (N)\") + \n",
    "   theme(plot.margin = unit(c(0,0,0,0.5), \"cm\"))\n",
    "\n",
    "# display plost side to side\n",
    "options(repr.plot.width=14, repr.plot.height=5)\n",
    "grid.arrange(age_plot, pol_align_plot, ncol = 2) "
   ]
  },
  {
   "cell_type": "markdown",
   "id": "4f4f36d3",
   "metadata": {},
   "source": [
    "# Scale and center variables"
   ]
  },
  {
   "cell_type": "code",
   "execution_count": 6,
   "id": "5b92d852",
   "metadata": {},
   "outputs": [],
   "source": [
    "# scale and center the election periods\n",
    "wtdata$is_before_elections <- scale(wtdata$election_period_cat == 'A', scale=T)\n",
    "wtdata$is_during_elections <- scale(wtdata$election_period_cat == 'B', scale=T)\n",
    "wtdata$is_after_elections <- scale(wtdata$election_period_cat == 'C', scale=T)\n",
    "\n",
    "# scaling the rest of the variables\n",
    "wtdata$rank <- scale(wtdata$rank, scale=T)\n",
    "# invert this value so that the odds ratio, so it the scaled scores\n",
    "# match the intuition, i.e. the 1st result should have a higher (positive)\n",
    "# value. The odds ratio are then easier to interpret.\n",
    "wtdata$inv_rank <- -1 * wtdata$rank\n",
    "\n",
    "# scale and center the representativeness\n",
    "wtdata$news_representativeness <- scale(wtdata$news_representativeness, scale=T)\n",
    "\n",
    "# scale and center engagement variables\n",
    "wtdata$engagement_TD_B <- scale(wtdata$engagement_TD_B, scale=T)\n",
    "wtdata$engagement_TD_C <- scale(wtdata$engagement_TD_C, scale=T)\n",
    "wtdata$engagement_TD_D <- scale(wtdata$engagement_TD_D, scale=T)\n",
    "\n",
    "# convert to factors the within subjects\n",
    "wtdata$search_page <- as.factor(wtdata$search_page)\n",
    "wtdata$participant <- as.factor(wtdata$participant)\n",
    "wtdata$coredomain <- as.factor(wtdata$coredomain)"
   ]
  },
  {
   "cell_type": "markdown",
   "id": "3ef9169a",
   "metadata": {},
   "source": [
    "# Dataset B: engagement"
   ]
  },
  {
   "cell_type": "code",
   "execution_count": 7,
   "id": "8ff58432",
   "metadata": {},
   "outputs": [
    {
     "name": "stderr",
     "output_type": "stream",
     "text": [
      "boundary (singular) fit: see help('isSingular')\n",
      "\n"
     ]
    }
   ],
   "source": [
    "# time dependent\n",
    "td_model_B <- glmer(is_selected_result ~ \n",
    "\n",
    "                              # main factors\n",
    "                              engagement_TD_B\n",
    "                            * inv_rank\n",
    "                            * news_representativeness \n",
    "\n",
    "                            # control for demographics\n",
    "                            + is_female\n",
    "                            + is_diverse\n",
    "                            + is_west_germany\n",
    "                            + age\n",
    "                            + education\n",
    "                            + political_alignment\n",
    "\n",
    "                            # control for election day\n",
    "                            + is_during_elections\n",
    "                            + is_after_elections\n",
    "\n",
    "                            # within subject controls\n",
    "                            + (1|search_page)\n",
    "                            + (1|coredomain)\n",
    "                            + (1|participant)\n",
    "\n",
    "                            , data=wtdata, family=binomial)\n",
    "\n",
    "tab_model(td_model_B)"
   ]
  },
  {
   "cell_type": "code",
   "execution_count": 8,
   "id": "078ccb38",
   "metadata": {},
   "outputs": [],
   "source": [
    "\n",
    "tab_model(td_model_B, wrap.labels=F, CSS=css, file = \"statistical_tests/td_model_B.html\")"
   ]
  },
  {
   "cell_type": "markdown",
   "id": "a879093c",
   "metadata": {},
   "source": [
    "# Dataset C: Google associated engagement"
   ]
  },
  {
   "cell_type": "code",
   "execution_count": 9,
   "id": "e9d02bb3",
   "metadata": {},
   "outputs": [
    {
     "name": "stderr",
     "output_type": "stream",
     "text": [
      "boundary (singular) fit: see help('isSingular')\n",
      "\n"
     ]
    }
   ],
   "source": [
    "# time independent\n",
    "ti_model_C <- glmer(is_selected_result ~ \n",
    "\n",
    "                              # main factors\n",
    "                              engagement_TD_C\n",
    "                            * inv_rank\n",
    "                            * news_representativeness \n",
    "\n",
    "                            # control for demographics\n",
    "                            + is_female\n",
    "                            + is_diverse\n",
    "                            + is_west_germany\n",
    "                            + age\n",
    "                            + education\n",
    "                            + political_alignment\n",
    "\n",
    "                            # control for election day\n",
    "                            + is_during_elections\n",
    "                            + is_after_elections\n",
    "\n",
    "                            # within subject controls\n",
    "                            + (1|search_page)\n",
    "                            + (1|coredomain)\n",
    "                            + (1|participant)\n",
    "\n",
    "                            , data=wtdata, family=binomial)\n",
    "tab_model(ti_model_C, wrap.labels=F, CSS=css, file = \"statistical_tests/td_model_C.html\")\n"
   ]
  },
  {
   "cell_type": "markdown",
   "id": "2b0ef059",
   "metadata": {},
   "source": [
    "# Dataset D: non Google associated engagement"
   ]
  },
  {
   "cell_type": "code",
   "execution_count": 10,
   "id": "a38ead2b",
   "metadata": {},
   "outputs": [
    {
     "name": "stderr",
     "output_type": "stream",
     "text": [
      "boundary (singular) fit: see help('isSingular')\n",
      "\n"
     ]
    }
   ],
   "source": [
    "# time independent\n",
    "ti_model_D <- glmer(is_selected_result ~ \n",
    "\n",
    "                              # main factors\n",
    "                              engagement_TD_D\n",
    "                            * inv_rank\n",
    "                            * news_representativeness \n",
    "\n",
    "                            # control for demographics\n",
    "                            + is_female\n",
    "                            + is_diverse\n",
    "                            + is_west_germany\n",
    "                            + age\n",
    "                            + education\n",
    "                            + political_alignment\n",
    "\n",
    "                            # control for election day\n",
    "                            + is_during_elections\n",
    "                            + is_after_elections\n",
    "\n",
    "                            # within subject controls\n",
    "                            + (1|search_page)\n",
    "                            + (1|coredomain)\n",
    "                            + (1|participant)\n",
    "\n",
    "                            , data=wtdata, family=binomial)\n",
    "tab_model(ti_model_D, wrap.labels=F, CSS=css, file = \"statistical_tests/td_model_D.html\")\n"
   ]
  },
  {
   "cell_type": "code",
   "execution_count": null,
   "id": "bbe74751",
   "metadata": {},
   "outputs": [],
   "source": []
  }
 ],
 "metadata": {
  "hide_input": false,
  "kernelspec": {
   "display_name": "R",
   "language": "R",
   "name": "ir"
  },
  "language_info": {
   "codemirror_mode": "r",
   "file_extension": ".r",
   "mimetype": "text/x-r-source",
   "name": "R",
   "pygments_lexer": "r",
   "version": "4.2.1"
  }
 },
 "nbformat": 4,
 "nbformat_minor": 5
}
